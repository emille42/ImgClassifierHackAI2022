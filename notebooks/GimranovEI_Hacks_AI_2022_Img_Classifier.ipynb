{
  "cells": [
    {
      "cell_type": "markdown",
      "metadata": {
        "id": "Bcy4H6F00Pl6"
      },
      "source": [
        "# **Imports**"
      ]
    },
    {
      "cell_type": "code",
      "execution_count": 8,
      "metadata": {
        "id": "LFy8ZaJoyGui"
      },
      "outputs": [],
      "source": [
        "# torch\n",
        "import torch\n",
        "import torch.nn as nn\n",
        "import torch.functional as F\n",
        "from torch.utils.data import DataLoader\n",
        "# augments\n",
        "import cv2\n",
        "import albumentations as A\n",
        "from albumentations.pytorch import ToTensorV2\n",
        "# utils\n",
        "import os\n",
        "from IPython.display import clear_output\n",
        "import copy\n",
        "# other\n",
        "import pandas as pd\n",
        "import numpy as np\n",
        "import matplotlib.pyplot as plt\n",
        "from sklearn.model_selection import train_test_split, KFold\n",
        "from sklearn.metrics import recall_score\n",
        "import random\n",
        "# warnings\n",
        "import warnings\n",
        "from sklearn.exceptions import UndefinedMetricWarning\n",
        "warnings.filterwarnings(action='ignore', category=UndefinedMetricWarning)\n",
        "# import py-scripts\n",
        "import sys\n",
        "sys.path.append(\"../\")\n",
        "from src.train_model import *\n",
        "from src.utils import *\n",
        "from src.get_model_funcs import *\n",
        "from src.image_dataset import *\n",
        "from src.img_transforms import *\n",
        "from src.img_classifier_ensemble import *"
      ]
    },
    {
      "cell_type": "code",
      "execution_count": 3,
      "metadata": {
        "colab": {
          "base_uri": "https://localhost:8080/"
        },
        "id": "XPFT3Mgg0DI4",
        "outputId": "1ba9bfd8-8e7c-4a8f-b9f7-fc83a68d7572"
      },
      "outputs": [
        {
          "data": {
            "text/plain": [
              "device(type='cpu')"
            ]
          },
          "execution_count": 3,
          "metadata": {},
          "output_type": "execute_result"
        }
      ],
      "source": [
        "SEED = 42\n",
        "random.seed(SEED)\n",
        "np.random.seed(SEED)\n",
        "torch.manual_seed(SEED)\n",
        "torch.cuda.manual_seed(SEED)\n",
        "torch.backends.cudnn.deterministic = True\n",
        "\n",
        "device = torch.device(\"cuda:0\" if torch.cuda.is_available() else \"cpu\")\n",
        "device"
      ]
    },
    {
      "cell_type": "markdown",
      "metadata": {
        "id": "ej-jiEq-0Koc"
      },
      "source": [
        "# **Dataset**"
      ]
    },
    {
      "cell_type": "code",
      "execution_count": 60,
      "metadata": {
        "id": "QM_--Ny60Jup"
      },
      "outputs": [],
      "source": [
        "TRAIN_PATH = \"/content/drive/MyDrive/hacksAI2022/Datasets/KarachaevoCherkessk/train\"\n",
        "TEST_PATH = \"/content/drive/MyDrive/hacksAI2022/Datasets/KarachaevoCherkessk/test\"\n",
        "train_df = pd.read_csv(\"/content/drive/MyDrive/hacksAI2022/Datasets/KarachaevoCherkessk/train.csv\")\n",
        "test_df = pd.read_csv(\"/content/drive/MyDrive/hacksAI2022/Datasets/KarachaevoCherkessk/test.csv\")\n",
        "n_classes = len(train_df['class'].unique())\n",
        "n_classes"
      ]
    },
    {
      "cell_type": "code",
      "execution_count": 18,
      "metadata": {
        "id": "RupfpxoBxUOt"
      },
      "outputs": [],
      "source": [
        "# UPSAMPLING\n",
        "upsampled_df = []\n",
        "max_count = 600\n",
        "for i in range(n_classes):\n",
        "  class_df = train_df[train_df['class'] == i]\n",
        "  if class_df.shape[0] < max_count:\n",
        "    sum = class_df.shape[0]\n",
        "    while sum < max_count:\n",
        "      samples = train_df[train_df['class'] == i].sample(150)\n",
        "      upsampled_df.append(samples)\n",
        "      sum+=samples.shape[0]\n",
        "upsampled_df.append(train_df)\n",
        "upsampled_df = pd.concat(upsampled_df, axis=0).reset_index().drop('index', axis=1)\n",
        "upsampled_df['class'].value_counts()"
      ]
    },
    {
      "cell_type": "code",
      "execution_count": 19,
      "metadata": {
        "id": "9UYlvydl69dT"
      },
      "outputs": [],
      "source": [
        "!mkdir augmented\n",
        "transforms = A.ShiftScaleRotate(shift_limit=0.0625, scale_limit=0.20, rotate_limit=30, p=1)\n",
        "aug_df = augment_and_save(upsampled_df,750, TRAIN_PATH, \"/content/augmented/\",transforms)\n",
        "!cd augmented && ls | wc -l\n",
        "!cd /content/drive/MyDrive/hacksAI2022/Datasets/KarachaevoCherkessk/ && mkdir upsampled\n",
        "!cp /content/drive/MyDrive/hacksAI2022/Datasets/KarachaevoCherkessk/train/* /content/drive/MyDrive/hacksAI2022/Datasets/KarachaevoCherkessk/upsampled\n",
        "!cp /content/augmented/* /content/drive/MyDrive/hacksAI2022/Datasets/KarachaevoCherkessk/upsampled\n",
        "augmented_df = pd.concat([train_df, aug_df])\n",
        "print(augmented_df.shape)\n",
        "augmented_df.to_csv('/content/drive/MyDrive/hacksAI2022/Datasets/KarachaevoCherkessk/upsampled.csv', index=False)"
      ]
    },
    {
      "cell_type": "code",
      "execution_count": 22,
      "metadata": {
        "id": "sKF1BRJlygDm"
      },
      "outputs": [],
      "source": [
        "TRAIN_PATH = \"/content/drive/MyDrive/hacksAI2022/Datasets/KarachaevoCherkessk/upsampled\"\n",
        "train_df = pd.read_csv('/content/drive/MyDrive/hacksAI2022/Datasets/KarachaevoCherkessk/upsampled.csv')"
      ]
    },
    {
      "cell_type": "code",
      "execution_count": 24,
      "metadata": {
        "colab": {
          "base_uri": "https://localhost:8080/"
        },
        "id": "FwTchHhyy3cL",
        "outputId": "601387d9-cf10-4722-8597-e650656dd8a9"
      },
      "outputs": [
        {
          "data": {
            "text/plain": [
              "1.0    1586\n",
              "5.0    1178\n",
              "6.0    1036\n",
              "3.0     969\n",
              "0.0     942\n",
              "2.0     932\n",
              "7.0     838\n",
              "4.0     797\n",
              "Name: class, dtype: int64"
            ]
          },
          "execution_count": 24,
          "metadata": {},
          "output_type": "execute_result"
        }
      ],
      "source": [
        "train_df['class'].value_counts()"
      ]
    },
    {
      "cell_type": "code",
      "execution_count": 25,
      "metadata": {
        "colab": {
          "base_uri": "https://localhost:8080/"
        },
        "id": "IY9cV3wFtdTJ",
        "outputId": "41b99de5-09e4-41fb-9865-02fb65775b04"
      },
      "outputs": [
        {
          "data": {
            "text/plain": [
              "1.0    1000\n",
              "5.0    1000\n",
              "6.0    1000\n",
              "3.0     969\n",
              "0.0     942\n",
              "2.0     932\n",
              "7.0     838\n",
              "4.0     797\n",
              "Name: class, dtype: int64"
            ]
          },
          "execution_count": 25,
          "metadata": {},
          "output_type": "execute_result"
        }
      ],
      "source": [
        "# UNDERSAMPLING\n",
        "undersampled_df = []\n",
        "max_count = 1000\n",
        "for i in range(n_classes):\n",
        "  if train_df[train_df['class'] == i].shape[0] > max_count:\n",
        "    samples = train_df[train_df['class'] == i].sample(max_count)\n",
        "    train_df = train_df.drop(train_df[train_df['class'] == i].index)\n",
        "    undersampled_df.append(samples)\n",
        "undersampled_df.append(train_df)\n",
        "train_df = pd.concat(undersampled_df, axis=0)\n",
        "train_df['class'].value_counts()"
      ]
    },
    {
      "cell_type": "code",
      "execution_count": 29,
      "metadata": {
        "id": "aLUeF6nq6w95"
      },
      "outputs": [],
      "source": [
        "train_df2, val_df2 = train_test_split(train_df,test_size=0.15, random_state=SEED)\n",
        "#TRAIN DATA\n",
        "train_dataset = ImgDataset(train_df2, TRAIN_PATH, transform=train_transforms, with_label=True)\n",
        "train_dataloader = DataLoader(train_dataset, batch_size=70, shuffle=True, drop_last=True)\n",
        "\n",
        "# VAL DATA\n",
        "val_dataset = ImgDataset(val_df2, TRAIN_PATH, transform=test_transforms, with_label=True)\n",
        "val_dataloader = DataLoader(val_dataset, batch_size=70, shuffle=True, drop_last=True)"
      ]
    },
    {
      "cell_type": "markdown",
      "metadata": {
        "id": "4J-9uzXpRlht"
      },
      "source": [
        "# **CROSS-VALIDATION**"
      ]
    },
    {
      "cell_type": "code",
      "execution_count": null,
      "metadata": {
        "id": "dvEzrRrmo_kt"
      },
      "outputs": [],
      "source": [
        "cross_validation([],\\\n",
        "                 train_df, n_splits=5, \\\n",
        "                 batch_size=50,grad=True, transforms=[train_transforms, test_transforms],\\\n",
        "                 train_path=TRAIN_PATH, \\\n",
        "                 n_epochs=10,n_classes=n_classes, metric=recall_score, device=device)"
      ]
    },
    {
      "cell_type": "markdown",
      "metadata": {
        "id": "CV176ArhPhl_"
      },
      "source": [
        "# **TRAIN MODELS**"
      ]
    },
    {
      "cell_type": "code",
      "execution_count": null,
      "metadata": {
        "colab": {
          "base_uri": "https://localhost:8080/",
          "height": 332
        },
        "id": "QmZlvp_AKMsT",
        "outputId": "7262c3a9-07b3-4e40-c394-e0600d924f3b"
      },
      "outputs": [
        {
          "name": "stdout",
          "output_type": "stream",
          "text": [
            "Epoch 10 val loss: 0.061\n",
            "Epoch 10 val acc: 0.985\n",
            "Epoch 10 val metric: 0.987\n"
          ]
        },
        {
          "data": {
            "image/png": "[encoded data removed]",
            "text/plain": [
              "<Figure size 1080x216 with 3 Axes>"
            ]
          },
          "metadata": {
            "needs_background": "light"
          },
          "output_type": "display_data"
        },
        {
          "name": "stdout",
          "output_type": "stream",
          "text": [
            "Best train loss: 0.072\n",
            "Best val loss: 0.05\n",
            "Best train metric: 0.982\n",
            "Best val metric: 0.984\n"
          ]
        }
      ],
      "source": [
        "efnet_v2s = get_efficientnet_v2_s_mod(n_classes, True)\n",
        "loss = torch.nn.CrossEntropyLoss()\n",
        "optimizer = torch.optim.Adam(efnet_v2s.parameters(), lr=1.0e-3)\n",
        "\n",
        "best_efnet_v2s, best_loss, best_metric = train_model(efnet_v2s,loss_func=loss,\\\n",
        "                                            train_dataloader=train_dataloader, \\\n",
        "                                            val_dataloader=val_dataloader,\\\n",
        "                                            optimizer=optimizer, n_epochs=10,\\\n",
        "                                            device=device,metric=recall_score,\\\n",
        "                                            )"
      ]
    },
    {
      "cell_type": "code",
      "execution_count": null,
      "metadata": {
        "id": "KdVo6Df10QTW"
      },
      "outputs": [],
      "source": [
        "torch.save(best_efnet_v2s, \"efnet_v2s.pth\")"
      ]
    },
    {
      "cell_type": "code",
      "execution_count": null,
      "metadata": {
        "colab": {
          "base_uri": "https://localhost:8080/",
          "height": 350
        },
        "id": "u7dqCRXiVrYs",
        "outputId": "b20e6c20-8e97-4652-b1bd-35903291461f"
      },
      "outputs": [
        {
          "name": "stdout",
          "output_type": "stream",
          "text": [
            "Epoch 10 val loss: 0.07\n",
            "Epoch 10 val acc: 0.98\n",
            "Epoch 10 val metric: 0.982\n",
            "Find new best model on val with loss: 0.07, epoch: 10 !\n"
          ]
        },
        {
          "data": {
            "image/png": "[encoded data removed]",
            "text/plain": [
              "<Figure size 1080x216 with 3 Axes>"
            ]
          },
          "metadata": {
            "needs_background": "light"
          },
          "output_type": "display_data"
        },
        {
          "name": "stdout",
          "output_type": "stream",
          "text": [
            "Best train loss: 0.067\n",
            "Best val loss: 0.07\n",
            "Best train metric: 0.985\n",
            "Best val metric: 0.982\n"
          ]
        }
      ],
      "source": [
        "efnet_b7 = get_efficientnet_b7_mod(n_classes, True)\n",
        "loss = torch.nn.CrossEntropyLoss()\n",
        "optimizer = torch.optim.Adam(efnet_b7.parameters(), lr=1.0e-3)\n",
        "\n",
        "best_efnet_b7, best_loss, best_metric = train_model(efnet_b7,loss_func=loss,\\\n",
        "                                            train_dataloader=train_dataloader, \\\n",
        "                                            val_dataloader=val_dataloader,\\\n",
        "                                            optimizer=optimizer, n_epochs=10,\\\n",
        "                                            device=device,metric=recall_score,\\\n",
        "                                            )"
      ]
    },
    {
      "cell_type": "code",
      "execution_count": null,
      "metadata": {
        "id": "yZ2L27SPcQXO"
      },
      "outputs": [],
      "source": [
        "torch.save(best_efnet_b7, \"efnet_b7.pth\")"
      ]
    },
    {
      "cell_type": "code",
      "execution_count": null,
      "metadata": {
        "colab": {
          "base_uri": "https://localhost:8080/",
          "height": 332,
          "referenced_widgets": [
            "1c34b567a08a4acca20113bfb4976361",
            "607349f1a9b144e2af238f3f0626b0cf",
            "2a70e9b251854eaf8b73416bb5c8e93c",
            "761e196e3e77402fa1f53c6a7a5f34c9",
            "0a65dbe09836465a98c42257dd2fecf8",
            "eafdaf4d0fb74985a17355818c02e90b",
            "b932a0aed6bc4bfeb1bd60b66f27531f",
            "5212687f2e6d49599ec03da258119f90",
            "470c589eb19148d1b9e4a5b23eaa8d82",
            "7d29c23f0a6e4498a405b94967753a9c",
            "3b037a6e2b51413189c9d7adbea98fa1"
          ]
        },
        "id": "p2NRau4kPlnv",
        "outputId": "0c3532a6-d3d1-44ad-862c-d2c8ae98d90c"
      },
      "outputs": [
        {
          "name": "stdout",
          "output_type": "stream",
          "text": [
            "Epoch 10 val loss: 0.114\n",
            "Epoch 10 val acc: 0.964\n",
            "Epoch 10 val metric: 0.966\n"
          ]
        },
        {
          "data": {
            "image/png": "[encoded data removed]",
            "text/plain": [
              "<Figure size 1080x216 with 3 Axes>"
            ]
          },
          "metadata": {
            "needs_background": "light"
          },
          "output_type": "display_data"
        },
        {
          "name": "stdout",
          "output_type": "stream",
          "text": [
            "Best train loss: 0.091\n",
            "Best val loss: 0.066\n",
            "Best train metric: 0.978\n",
            "Best val metric: 0.977\n"
          ]
        }
      ],
      "source": [
        "resnet101 = get_wide_resnet101_mod(n_classes, True)\n",
        "loss = torch.nn.CrossEntropyLoss()\n",
        "optimizer = torch.optim.Adam(resnet101.parameters(), lr=1.0e-3)\n",
        "\n",
        "best_resnet101, best_loss, best_metric = train_model(resnet101,loss_func=loss,\\\n",
        "                                            train_dataloader=train_dataloader, \\\n",
        "                                            val_dataloader=val_dataloader,\\\n",
        "                                            optimizer=optimizer, n_epochs=10,\\\n",
        "                                            device=device,metric=recall_score,\\\n",
        "                                            )"
      ]
    },
    {
      "cell_type": "code",
      "execution_count": null,
      "metadata": {
        "id": "QXG9xeTZ0dtl"
      },
      "outputs": [],
      "source": [
        "torch.save(best_resnet101, \"resnet101.pth\")"
      ]
    },
    {
      "cell_type": "code",
      "execution_count": null,
      "metadata": {
        "colab": {
          "base_uri": "https://localhost:8080/",
          "height": 332,
          "referenced_widgets": [
            "668eab4ad39e40b7b6f9c30dcfc09976",
            "8a5e0a07ec7941ebbd54bca65f5afd31",
            "8102e1ced5ee4277bc9b5c5e3cf8d554",
            "37307dd37df04cbda0580ff048666a6d",
            "65f038827eff4566bcbb1a00bc1bfd0d",
            "d7ad6f47c9cd49d89747e2b4dafccb2d",
            "d97212facb744fb884329d8a94cf6b4f",
            "92c4d08b5635458785a4a74052970d1f",
            "db07ccb2a7ca4c7ab2fd3e48f5299b18",
            "d8f1a0a079944de5b503d94db4e28261",
            "30b54e69fea34c3cafd536eb20d5e112"
          ]
        },
        "id": "htUtPs_RRpnP",
        "outputId": "93aa4269-28ac-4b9f-f06f-e163e1c671c0"
      },
      "outputs": [
        {
          "name": "stdout",
          "output_type": "stream",
          "text": [
            "Epoch 10 val loss: 0.1\n",
            "Epoch 10 val acc: 0.97\n",
            "Epoch 10 val metric: 0.973\n"
          ]
        },
        {
          "data": {
            "image/png": "[encoded data removed]",
            "text/plain": [
              "<Figure size 1080x216 with 3 Axes>"
            ]
          },
          "metadata": {
            "needs_background": "light"
          },
          "output_type": "display_data"
        },
        {
          "name": "stdout",
          "output_type": "stream",
          "text": [
            "Best train loss: 0.084\n",
            "Best val loss: 0.093\n",
            "Best train metric: 0.976\n",
            "Best val metric: 0.969\n"
          ]
        }
      ],
      "source": [
        "densenet161 = get_densenet161_mod(n_classes, True)\n",
        "loss = torch.nn.CrossEntropyLoss()\n",
        "optimizer = torch.optim.Adam(densenet161.parameters(), lr=1.0e-3)\n",
        "\n",
        "best_densenet161, best_loss, best_metric = train_model(densenet161,loss_func=loss,\\\n",
        "                                            train_dataloader=train_dataloader, \\\n",
        "                                            val_dataloader=val_dataloader,\\\n",
        "                                            optimizer=optimizer, n_epochs=10,\\\n",
        "                                            device=device,metric=recall_score,\\\n",
        "                                            )"
      ]
    },
    {
      "cell_type": "code",
      "execution_count": null,
      "metadata": {
        "id": "Mxf29AIS0nug"
      },
      "outputs": [],
      "source": [
        "torch.save(best_densenet161, \"densenet161.pth\")"
      ]
    },
    {
      "cell_type": "code",
      "execution_count": null,
      "metadata": {
        "colab": {
          "base_uri": "https://localhost:8080/",
          "height": 332,
          "referenced_widgets": [
            "a557bcc2ac3140dfa96bb5f27dd0a4e8",
            "6ddbf547ae524cf4b13b8ce97a32274d",
            "79befdf0817c447d9056b4a867d3b509",
            "95cb62569543462daca46c8db3a0fe6f",
            "1f53114037644a34931c07ef7a860f1e",
            "050a29b4ec6a4a6d86f111fa0772cfec",
            "674219ffae0642c29b3e655bed870c3a",
            "d1bb345a51504b3ab7ea592dca247130",
            "68d681877f1c42c9bee37c0c148e0c72",
            "2fab95c912bf49a7ad778378f3228787",
            "31b9d1079e764e79919e9bbe51d4d0a7"
          ]
        },
        "id": "Yx5rNT9InZLr",
        "outputId": "2d7133a2-778c-4885-c4e8-f61a509e65ee"
      },
      "outputs": [
        {
          "name": "stdout",
          "output_type": "stream",
          "text": [
            "Epoch 10 val loss: 0.108\n",
            "Epoch 10 val acc: 0.967\n",
            "Epoch 10 val metric: 0.967\n"
          ]
        },
        {
          "data": {
            "image/png": "[encoded data removed]",
            "text/plain": [
              "<Figure size 1080x216 with 3 Axes>"
            ]
          },
          "metadata": {
            "needs_background": "light"
          },
          "output_type": "display_data"
        },
        {
          "name": "stdout",
          "output_type": "stream",
          "text": [
            "Best train loss: 0.174\n",
            "Best val loss: 0.083\n",
            "Best train metric: 0.942\n",
            "Best val metric: 0.975\n"
          ]
        }
      ],
      "source": [
        "swin_s = get_swin_s_mod(n_classes, True)\n",
        "loss = torch.nn.CrossEntropyLoss()\n",
        "optimizer = torch.optim.Adam(swin_s.parameters(), lr=1.0e-3)\n",
        "\n",
        "best_swin_s, best_loss, best_metric = train_model(swin_s,loss_func=loss,\\\n",
        "                                            train_dataloader=train_dataloader, \\\n",
        "                                            val_dataloader=val_dataloader,\\\n",
        "                                            optimizer=optimizer, n_epochs=10,\\\n",
        "                                            device=device,metric=recall_score,\\\n",
        "                                            )"
      ]
    },
    {
      "cell_type": "code",
      "execution_count": null,
      "metadata": {
        "id": "zvRkmCP7noy4"
      },
      "outputs": [],
      "source": [
        "torch.save(best_swin_s, \"swin_s.pth\")"
      ]
    },
    {
      "cell_type": "markdown",
      "metadata": {
        "id": "Ct1KwQaFTgp_"
      },
      "source": [
        "# **ENSEMBLE**"
      ]
    },
    {
      "cell_type": "code",
      "execution_count": 79,
      "metadata": {
        "colab": {
          "base_uri": "https://localhost:8080/",
          "height": 357
        },
        "id": "hldABJIjVeA4",
        "outputId": "57ccc6a3-8e1f-44aa-b78b-117aa0b3dc7c"
      },
      "outputs": [
        {
          "name": "stdout",
          "output_type": "stream",
          "text": [
            "Epoch 20 val loss: 0.149\n",
            "Epoch 20 val acc: 0.992\n",
            "Epoch 20 val metric: 0.992\n",
            "Find new best model on val with loss: 0.149, epoch: 20 !\n"
          ]
        },
        {
          "data": {
            "image/png": "[encoded data removed]",
            "text/plain": [
              "<Figure size 1080x216 with 3 Axes>"
            ]
          },
          "metadata": {
            "needs_background": "light"
          },
          "output_type": "display_data"
        },
        {
          "name": "stdout",
          "output_type": "stream",
          "text": [
            "Best train loss: 0.22\n",
            "Best val loss: 0.149\n",
            "Best train metric: 0.996\n",
            "Best val metric: 0.992\n"
          ]
        }
      ],
      "source": [
        "m_path = \"/content/drive/MyDrive/hacksAI2022/Datasets/KarachaevoCherkessk/\"\n",
        "models_list = [\n",
        "    torch.load(os.path.join(m_path, \"resnet101.pth\")), \\\n",
        "    torch.load(os.path.join(m_path, \"efnet_b7.pth\")),\\\n",
        "    torch.load(os.path.join(m_path, \"swin_s.pth\")),\n",
        "    torch.load(os.path.join(m_path, \"densenet161.pth\")),\n",
        "    torch.load(os.path.join(m_path, \"efnet_v2s.pth\"))\n",
        "    ]\n",
        "\n",
        "ensemble = ImgClassifiersEnsemble(models_list, n_classes )\n",
        "loss = torch.nn.CrossEntropyLoss()\n",
        "# optimizer = torch.optim.Adam(ensemble.parameters(), lr=1.0e-3)\n",
        "optimizer = torch.optim.SGD(ensemble.parameters(), lr=1.0e-3)\n",
        "\n",
        "for param in ensemble.parameters():\n",
        "    param.requires_grad = False\n",
        "\n",
        "for param in ensemble.classifier.parameters():\n",
        "    param.requires_grad = True \n",
        "\n",
        "best_ensemble, best_loss, best_metric = train_model(ensemble,loss_func=loss,\\\n",
        "                                            train_dataloader=train_dataloader, \\\n",
        "                                            val_dataloader=val_dataloader,\\\n",
        "                                            optimizer=optimizer, n_epochs=35,\\\n",
        "                                            device=device,metric=recall_score,\\\n",
        "                                            )"
      ]
    },
    {
      "cell_type": "code",
      "execution_count": null,
      "metadata": {
        "id": "1Wz-XGLiEmHC"
      },
      "outputs": [],
      "source": [
        "torch.save(best_ensemble, \"ensemble_DN161_RN101_ENB7_ENV2S_SWIN.pth\")"
      ]
    },
    {
      "cell_type": "markdown",
      "metadata": {
        "id": "eF2IB_ka_cJE"
      },
      "source": [
        "# **Predict and Submission** "
      ]
    },
    {
      "cell_type": "code",
      "execution_count": null,
      "metadata": {
        "id": "4kPt0ydInHVD"
      },
      "outputs": [],
      "source": [
        "submission_df = pd.read_csv(\"/content/drive/MyDrive/hacksAI2022/Datasets/KarachaevoCherkessk/test.csv\")"
      ]
    },
    {
      "cell_type": "code",
      "execution_count": 81,
      "metadata": {
        "id": "Gd_L0WU6kSPb"
      },
      "outputs": [],
      "source": [
        "test_dataset = ImgDataset(submission_df, TEST_PATH, transform=test_transforms, with_label=False)\n",
        "test_dataloader = DataLoader(test_dataset, batch_size=20)"
      ]
    },
    {
      "cell_type": "code",
      "execution_count": 82,
      "metadata": {
        "colab": {
          "base_uri": "https://localhost:8080/"
        },
        "id": "8vhHL1Y8G9ur",
        "outputId": "4d9faeef-18bf-4089-89b5-84ed70f117cc"
      },
      "outputs": [
        {
          "name": "stderr",
          "output_type": "stream",
          "text": [
            "100%|██████████| 107/107 [00:39<00:00,  2.69it/s]\n"
          ]
        }
      ],
      "source": [
        "pred_labels, test_img_names = predict(best_ensemble, test_dataloader, device)"
      ]
    },
    {
      "cell_type": "code",
      "execution_count": 83,
      "metadata": {
        "id": "TurzC-0yvvDI"
      },
      "outputs": [],
      "source": [
        "for name, label in zip(test_img_names, pred_labels):\n",
        "  submission_df.loc[submission_df['ID_img'] == name , 'class'] = label"
      ]
    },
    {
      "cell_type": "code",
      "execution_count": 85,
      "metadata": {
        "colab": {
          "base_uri": "https://localhost:8080/"
        },
        "id": "89v01OWQ1Ijm",
        "outputId": "3462c4cc-be3a-406e-d865-77f17f89f948"
      },
      "outputs": [
        {
          "data": {
            "text/plain": [
              "1    681\n",
              "3    420\n",
              "4    336\n",
              "5    228\n",
              "2    153\n",
              "0    131\n",
              "6    123\n",
              "7     66\n",
              "Name: class, dtype: int64"
            ]
          },
          "execution_count": 85,
          "metadata": {},
          "output_type": "execute_result"
        }
      ],
      "source": [
        "submission_df['class'].value_counts()"
      ]
    },
    {
      "cell_type": "code",
      "execution_count": 86,
      "metadata": {
        "id": "U5B3qcumjeT1"
      },
      "outputs": [],
      "source": [
        "submission_df.to_csv('ensemble_upd_(SGD-20epochs)_DN161_RN101_ENB7_ENV2S_SWIN.csv', index=False)"
      ]
    }
  ],
  "metadata": {
    "colab": {
      "collapsed_sections": [
        "Pne-dJG-Jfnb"
      ],
      "provenance": []
    },
    "gpuClass": "standard",
    "kernelspec": {
      "display_name": "Python 3",
      "name": "python3"
    },
    "language_info": {
      "codemirror_mode": {
        "name": "ipython",
        "version": 3
      },
      "file_extension": ".py",
      "mimetype": "text/x-python",
      "name": "python",
      "nbconvert_exporter": "python",
      "pygments_lexer": "ipython3",
      "version": "3.11.1"
    },
    "widgets": {
      "application/vnd.jupyter.widget-state+json": {
        "050a29b4ec6a4a6d86f111fa0772cfec": {
          "model_module": "@jupyter-widgets/base",
          "model_module_version": "1.2.0",
          "model_name": "LayoutModel",
          "state": {
            "_model_module": "@jupyter-widgets/base",
            "_model_module_version": "1.2.0",
            "_model_name": "LayoutModel",
            "_view_count": null,
            "_view_module": "@jupyter-widgets/base",
            "_view_module_version": "1.2.0",
            "_view_name": "LayoutView",
            "align_content": null,
            "align_items": null,
            "align_self": null,
            "border": null,
            "bottom": null,
            "display": null,
            "flex": null,
            "flex_flow": null,
            "grid_area": null,
            "grid_auto_columns": null,
            "grid_auto_flow": null,
            "grid_auto_rows": null,
            "grid_column": null,
            "grid_gap": null,
            "grid_row": null,
            "grid_template_areas": null,
            "grid_template_columns": null,
            "grid_template_rows": null,
            "height": null,
            "justify_content": null,
            "justify_items": null,
            "left": null,
            "margin": null,
            "max_height": null,
            "max_width": null,
            "min_height": null,
            "min_width": null,
            "object_fit": null,
            "object_position": null,
            "order": null,
            "overflow": null,
            "overflow_x": null,
            "overflow_y": null,
            "padding": null,
            "right": null,
            "top": null,
            "visibility": null,
            "width": null
          }
        },
        "0a65dbe09836465a98c42257dd2fecf8": {
          "model_module": "@jupyter-widgets/base",
          "model_module_version": "1.2.0",
          "model_name": "LayoutModel",
          "state": {
            "_model_module": "@jupyter-widgets/base",
            "_model_module_version": "1.2.0",
            "_model_name": "LayoutModel",
            "_view_count": null,
            "_view_module": "@jupyter-widgets/base",
            "_view_module_version": "1.2.0",
            "_view_name": "LayoutView",
            "align_content": null,
            "align_items": null,
            "align_self": null,
            "border": null,
            "bottom": null,
            "display": null,
            "flex": null,
            "flex_flow": null,
            "grid_area": null,
            "grid_auto_columns": null,
            "grid_auto_flow": null,
            "grid_auto_rows": null,
            "grid_column": null,
            "grid_gap": null,
            "grid_row": null,
            "grid_template_areas": null,
            "grid_template_columns": null,
            "grid_template_rows": null,
            "height": null,
            "justify_content": null,
            "justify_items": null,
            "left": null,
            "margin": null,
            "max_height": null,
            "max_width": null,
            "min_height": null,
            "min_width": null,
            "object_fit": null,
            "object_position": null,
            "order": null,
            "overflow": null,
            "overflow_x": null,
            "overflow_y": null,
            "padding": null,
            "right": null,
            "top": null,
            "visibility": null,
            "width": null
          }
        },
        "1c34b567a08a4acca20113bfb4976361": {
          "model_module": "@jupyter-widgets/controls",
          "model_module_version": "1.5.0",
          "model_name": "HBoxModel",
          "state": {
            "_dom_classes": [],
            "_model_module": "@jupyter-widgets/controls",
            "_model_module_version": "1.5.0",
            "_model_name": "HBoxModel",
            "_view_count": null,
            "_view_module": "@jupyter-widgets/controls",
            "_view_module_version": "1.5.0",
            "_view_name": "HBoxView",
            "box_style": "",
            "children": [
              "IPY_MODEL_607349f1a9b144e2af238f3f0626b0cf",
              "IPY_MODEL_2a70e9b251854eaf8b73416bb5c8e93c",
              "IPY_MODEL_761e196e3e77402fa1f53c6a7a5f34c9"
            ],
            "layout": "IPY_MODEL_0a65dbe09836465a98c42257dd2fecf8"
          }
        },
        "1f53114037644a34931c07ef7a860f1e": {
          "model_module": "@jupyter-widgets/base",
          "model_module_version": "1.2.0",
          "model_name": "LayoutModel",
          "state": {
            "_model_module": "@jupyter-widgets/base",
            "_model_module_version": "1.2.0",
            "_model_name": "LayoutModel",
            "_view_count": null,
            "_view_module": "@jupyter-widgets/base",
            "_view_module_version": "1.2.0",
            "_view_name": "LayoutView",
            "align_content": null,
            "align_items": null,
            "align_self": null,
            "border": null,
            "bottom": null,
            "display": null,
            "flex": null,
            "flex_flow": null,
            "grid_area": null,
            "grid_auto_columns": null,
            "grid_auto_flow": null,
            "grid_auto_rows": null,
            "grid_column": null,
            "grid_gap": null,
            "grid_row": null,
            "grid_template_areas": null,
            "grid_template_columns": null,
            "grid_template_rows": null,
            "height": null,
            "justify_content": null,
            "justify_items": null,
            "left": null,
            "margin": null,
            "max_height": null,
            "max_width": null,
            "min_height": null,
            "min_width": null,
            "object_fit": null,
            "object_position": null,
            "order": null,
            "overflow": null,
            "overflow_x": null,
            "overflow_y": null,
            "padding": null,
            "right": null,
            "top": null,
            "visibility": null,
            "width": null
          }
        },
        "2a70e9b251854eaf8b73416bb5c8e93c": {
          "model_module": "@jupyter-widgets/controls",
          "model_module_version": "1.5.0",
          "model_name": "FloatProgressModel",
          "state": {
            "_dom_classes": [],
            "_model_module": "@jupyter-widgets/controls",
            "_model_module_version": "1.5.0",
            "_model_name": "FloatProgressModel",
            "_view_count": null,
            "_view_module": "@jupyter-widgets/controls",
            "_view_module_version": "1.5.0",
            "_view_name": "ProgressView",
            "bar_style": "success",
            "description": "",
            "description_tooltip": null,
            "layout": "IPY_MODEL_5212687f2e6d49599ec03da258119f90",
            "max": 508294365,
            "min": 0,
            "orientation": "horizontal",
            "style": "IPY_MODEL_470c589eb19148d1b9e4a5b23eaa8d82",
            "value": 508294365
          }
        },
        "2fab95c912bf49a7ad778378f3228787": {
          "model_module": "@jupyter-widgets/base",
          "model_module_version": "1.2.0",
          "model_name": "LayoutModel",
          "state": {
            "_model_module": "@jupyter-widgets/base",
            "_model_module_version": "1.2.0",
            "_model_name": "LayoutModel",
            "_view_count": null,
            "_view_module": "@jupyter-widgets/base",
            "_view_module_version": "1.2.0",
            "_view_name": "LayoutView",
            "align_content": null,
            "align_items": null,
            "align_self": null,
            "border": null,
            "bottom": null,
            "display": null,
            "flex": null,
            "flex_flow": null,
            "grid_area": null,
            "grid_auto_columns": null,
            "grid_auto_flow": null,
            "grid_auto_rows": null,
            "grid_column": null,
            "grid_gap": null,
            "grid_row": null,
            "grid_template_areas": null,
            "grid_template_columns": null,
            "grid_template_rows": null,
            "height": null,
            "justify_content": null,
            "justify_items": null,
            "left": null,
            "margin": null,
            "max_height": null,
            "max_width": null,
            "min_height": null,
            "min_width": null,
            "object_fit": null,
            "object_position": null,
            "order": null,
            "overflow": null,
            "overflow_x": null,
            "overflow_y": null,
            "padding": null,
            "right": null,
            "top": null,
            "visibility": null,
            "width": null
          }
        },
        "30b54e69fea34c3cafd536eb20d5e112": {
          "model_module": "@jupyter-widgets/controls",
          "model_module_version": "1.5.0",
          "model_name": "DescriptionStyleModel",
          "state": {
            "_model_module": "@jupyter-widgets/controls",
            "_model_module_version": "1.5.0",
            "_model_name": "DescriptionStyleModel",
            "_view_count": null,
            "_view_module": "@jupyter-widgets/base",
            "_view_module_version": "1.2.0",
            "_view_name": "StyleView",
            "description_width": ""
          }
        },
        "31b9d1079e764e79919e9bbe51d4d0a7": {
          "model_module": "@jupyter-widgets/controls",
          "model_module_version": "1.5.0",
          "model_name": "DescriptionStyleModel",
          "state": {
            "_model_module": "@jupyter-widgets/controls",
            "_model_module_version": "1.5.0",
            "_model_name": "DescriptionStyleModel",
            "_view_count": null,
            "_view_module": "@jupyter-widgets/base",
            "_view_module_version": "1.2.0",
            "_view_name": "StyleView",
            "description_width": ""
          }
        },
        "37307dd37df04cbda0580ff048666a6d": {
          "model_module": "@jupyter-widgets/controls",
          "model_module_version": "1.5.0",
          "model_name": "HTMLModel",
          "state": {
            "_dom_classes": [],
            "_model_module": "@jupyter-widgets/controls",
            "_model_module_version": "1.5.0",
            "_model_name": "HTMLModel",
            "_view_count": null,
            "_view_module": "@jupyter-widgets/controls",
            "_view_module_version": "1.5.0",
            "_view_name": "HTMLView",
            "description": "",
            "description_tooltip": null,
            "layout": "IPY_MODEL_d8f1a0a079944de5b503d94db4e28261",
            "placeholder": "​",
            "style": "IPY_MODEL_30b54e69fea34c3cafd536eb20d5e112",
            "value": " 110M/110M [00:01&lt;00:00, 70.7MB/s]"
          }
        },
        "3b037a6e2b51413189c9d7adbea98fa1": {
          "model_module": "@jupyter-widgets/controls",
          "model_module_version": "1.5.0",
          "model_name": "DescriptionStyleModel",
          "state": {
            "_model_module": "@jupyter-widgets/controls",
            "_model_module_version": "1.5.0",
            "_model_name": "DescriptionStyleModel",
            "_view_count": null,
            "_view_module": "@jupyter-widgets/base",
            "_view_module_version": "1.2.0",
            "_view_name": "StyleView",
            "description_width": ""
          }
        },
        "470c589eb19148d1b9e4a5b23eaa8d82": {
          "model_module": "@jupyter-widgets/controls",
          "model_module_version": "1.5.0",
          "model_name": "ProgressStyleModel",
          "state": {
            "_model_module": "@jupyter-widgets/controls",
            "_model_module_version": "1.5.0",
            "_model_name": "ProgressStyleModel",
            "_view_count": null,
            "_view_module": "@jupyter-widgets/base",
            "_view_module_version": "1.2.0",
            "_view_name": "StyleView",
            "bar_color": null,
            "description_width": ""
          }
        },
        "5212687f2e6d49599ec03da258119f90": {
          "model_module": "@jupyter-widgets/base",
          "model_module_version": "1.2.0",
          "model_name": "LayoutModel",
          "state": {
            "_model_module": "@jupyter-widgets/base",
            "_model_module_version": "1.2.0",
            "_model_name": "LayoutModel",
            "_view_count": null,
            "_view_module": "@jupyter-widgets/base",
            "_view_module_version": "1.2.0",
            "_view_name": "LayoutView",
            "align_content": null,
            "align_items": null,
            "align_self": null,
            "border": null,
            "bottom": null,
            "display": null,
            "flex": null,
            "flex_flow": null,
            "grid_area": null,
            "grid_auto_columns": null,
            "grid_auto_flow": null,
            "grid_auto_rows": null,
            "grid_column": null,
            "grid_gap": null,
            "grid_row": null,
            "grid_template_areas": null,
            "grid_template_columns": null,
            "grid_template_rows": null,
            "height": null,
            "justify_content": null,
            "justify_items": null,
            "left": null,
            "margin": null,
            "max_height": null,
            "max_width": null,
            "min_height": null,
            "min_width": null,
            "object_fit": null,
            "object_position": null,
            "order": null,
            "overflow": null,
            "overflow_x": null,
            "overflow_y": null,
            "padding": null,
            "right": null,
            "top": null,
            "visibility": null,
            "width": null
          }
        },
        "607349f1a9b144e2af238f3f0626b0cf": {
          "model_module": "@jupyter-widgets/controls",
          "model_module_version": "1.5.0",
          "model_name": "HTMLModel",
          "state": {
            "_dom_classes": [],
            "_model_module": "@jupyter-widgets/controls",
            "_model_module_version": "1.5.0",
            "_model_name": "HTMLModel",
            "_view_count": null,
            "_view_module": "@jupyter-widgets/controls",
            "_view_module_version": "1.5.0",
            "_view_name": "HTMLView",
            "description": "",
            "description_tooltip": null,
            "layout": "IPY_MODEL_eafdaf4d0fb74985a17355818c02e90b",
            "placeholder": "​",
            "style": "IPY_MODEL_b932a0aed6bc4bfeb1bd60b66f27531f",
            "value": "100%"
          }
        },
        "65f038827eff4566bcbb1a00bc1bfd0d": {
          "model_module": "@jupyter-widgets/base",
          "model_module_version": "1.2.0",
          "model_name": "LayoutModel",
          "state": {
            "_model_module": "@jupyter-widgets/base",
            "_model_module_version": "1.2.0",
            "_model_name": "LayoutModel",
            "_view_count": null,
            "_view_module": "@jupyter-widgets/base",
            "_view_module_version": "1.2.0",
            "_view_name": "LayoutView",
            "align_content": null,
            "align_items": null,
            "align_self": null,
            "border": null,
            "bottom": null,
            "display": null,
            "flex": null,
            "flex_flow": null,
            "grid_area": null,
            "grid_auto_columns": null,
            "grid_auto_flow": null,
            "grid_auto_rows": null,
            "grid_column": null,
            "grid_gap": null,
            "grid_row": null,
            "grid_template_areas": null,
            "grid_template_columns": null,
            "grid_template_rows": null,
            "height": null,
            "justify_content": null,
            "justify_items": null,
            "left": null,
            "margin": null,
            "max_height": null,
            "max_width": null,
            "min_height": null,
            "min_width": null,
            "object_fit": null,
            "object_position": null,
            "order": null,
            "overflow": null,
            "overflow_x": null,
            "overflow_y": null,
            "padding": null,
            "right": null,
            "top": null,
            "visibility": null,
            "width": null
          }
        },
        "668eab4ad39e40b7b6f9c30dcfc09976": {
          "model_module": "@jupyter-widgets/controls",
          "model_module_version": "1.5.0",
          "model_name": "HBoxModel",
          "state": {
            "_dom_classes": [],
            "_model_module": "@jupyter-widgets/controls",
            "_model_module_version": "1.5.0",
            "_model_name": "HBoxModel",
            "_view_count": null,
            "_view_module": "@jupyter-widgets/controls",
            "_view_module_version": "1.5.0",
            "_view_name": "HBoxView",
            "box_style": "",
            "children": [
              "IPY_MODEL_8a5e0a07ec7941ebbd54bca65f5afd31",
              "IPY_MODEL_8102e1ced5ee4277bc9b5c5e3cf8d554",
              "IPY_MODEL_37307dd37df04cbda0580ff048666a6d"
            ],
            "layout": "IPY_MODEL_65f038827eff4566bcbb1a00bc1bfd0d"
          }
        },
        "674219ffae0642c29b3e655bed870c3a": {
          "model_module": "@jupyter-widgets/controls",
          "model_module_version": "1.5.0",
          "model_name": "DescriptionStyleModel",
          "state": {
            "_model_module": "@jupyter-widgets/controls",
            "_model_module_version": "1.5.0",
            "_model_name": "DescriptionStyleModel",
            "_view_count": null,
            "_view_module": "@jupyter-widgets/base",
            "_view_module_version": "1.2.0",
            "_view_name": "StyleView",
            "description_width": ""
          }
        },
        "68d681877f1c42c9bee37c0c148e0c72": {
          "model_module": "@jupyter-widgets/controls",
          "model_module_version": "1.5.0",
          "model_name": "ProgressStyleModel",
          "state": {
            "_model_module": "@jupyter-widgets/controls",
            "_model_module_version": "1.5.0",
            "_model_name": "ProgressStyleModel",
            "_view_count": null,
            "_view_module": "@jupyter-widgets/base",
            "_view_module_version": "1.2.0",
            "_view_name": "StyleView",
            "bar_color": null,
            "description_width": ""
          }
        },
        "6ddbf547ae524cf4b13b8ce97a32274d": {
          "model_module": "@jupyter-widgets/controls",
          "model_module_version": "1.5.0",
          "model_name": "HTMLModel",
          "state": {
            "_dom_classes": [],
            "_model_module": "@jupyter-widgets/controls",
            "_model_module_version": "1.5.0",
            "_model_name": "HTMLModel",
            "_view_count": null,
            "_view_module": "@jupyter-widgets/controls",
            "_view_module_version": "1.5.0",
            "_view_name": "HTMLView",
            "description": "",
            "description_tooltip": null,
            "layout": "IPY_MODEL_050a29b4ec6a4a6d86f111fa0772cfec",
            "placeholder": "​",
            "style": "IPY_MODEL_674219ffae0642c29b3e655bed870c3a",
            "value": "100%"
          }
        },
        "761e196e3e77402fa1f53c6a7a5f34c9": {
          "model_module": "@jupyter-widgets/controls",
          "model_module_version": "1.5.0",
          "model_name": "HTMLModel",
          "state": {
            "_dom_classes": [],
            "_model_module": "@jupyter-widgets/controls",
            "_model_module_version": "1.5.0",
            "_model_name": "HTMLModel",
            "_view_count": null,
            "_view_module": "@jupyter-widgets/controls",
            "_view_module_version": "1.5.0",
            "_view_name": "HTMLView",
            "description": "",
            "description_tooltip": null,
            "layout": "IPY_MODEL_7d29c23f0a6e4498a405b94967753a9c",
            "placeholder": "​",
            "style": "IPY_MODEL_3b037a6e2b51413189c9d7adbea98fa1",
            "value": " 485M/485M [00:22&lt;00:00, 25.6MB/s]"
          }
        },
        "79befdf0817c447d9056b4a867d3b509": {
          "model_module": "@jupyter-widgets/controls",
          "model_module_version": "1.5.0",
          "model_name": "FloatProgressModel",
          "state": {
            "_dom_classes": [],
            "_model_module": "@jupyter-widgets/controls",
            "_model_module_version": "1.5.0",
            "_model_name": "FloatProgressModel",
            "_view_count": null,
            "_view_module": "@jupyter-widgets/controls",
            "_view_module_version": "1.5.0",
            "_view_name": "ProgressView",
            "bar_style": "success",
            "description": "",
            "description_tooltip": null,
            "layout": "IPY_MODEL_d1bb345a51504b3ab7ea592dca247130",
            "max": 199005311,
            "min": 0,
            "orientation": "horizontal",
            "style": "IPY_MODEL_68d681877f1c42c9bee37c0c148e0c72",
            "value": 199005311
          }
        },
        "7d29c23f0a6e4498a405b94967753a9c": {
          "model_module": "@jupyter-widgets/base",
          "model_module_version": "1.2.0",
          "model_name": "LayoutModel",
          "state": {
            "_model_module": "@jupyter-widgets/base",
            "_model_module_version": "1.2.0",
            "_model_name": "LayoutModel",
            "_view_count": null,
            "_view_module": "@jupyter-widgets/base",
            "_view_module_version": "1.2.0",
            "_view_name": "LayoutView",
            "align_content": null,
            "align_items": null,
            "align_self": null,
            "border": null,
            "bottom": null,
            "display": null,
            "flex": null,
            "flex_flow": null,
            "grid_area": null,
            "grid_auto_columns": null,
            "grid_auto_flow": null,
            "grid_auto_rows": null,
            "grid_column": null,
            "grid_gap": null,
            "grid_row": null,
            "grid_template_areas": null,
            "grid_template_columns": null,
            "grid_template_rows": null,
            "height": null,
            "justify_content": null,
            "justify_items": null,
            "left": null,
            "margin": null,
            "max_height": null,
            "max_width": null,
            "min_height": null,
            "min_width": null,
            "object_fit": null,
            "object_position": null,
            "order": null,
            "overflow": null,
            "overflow_x": null,
            "overflow_y": null,
            "padding": null,
            "right": null,
            "top": null,
            "visibility": null,
            "width": null
          }
        },
        "8102e1ced5ee4277bc9b5c5e3cf8d554": {
          "model_module": "@jupyter-widgets/controls",
          "model_module_version": "1.5.0",
          "model_name": "FloatProgressModel",
          "state": {
            "_dom_classes": [],
            "_model_module": "@jupyter-widgets/controls",
            "_model_module_version": "1.5.0",
            "_model_name": "FloatProgressModel",
            "_view_count": null,
            "_view_module": "@jupyter-widgets/controls",
            "_view_module_version": "1.5.0",
            "_view_name": "ProgressView",
            "bar_style": "success",
            "description": "",
            "description_tooltip": null,
            "layout": "IPY_MODEL_92c4d08b5635458785a4a74052970d1f",
            "max": 115730790,
            "min": 0,
            "orientation": "horizontal",
            "style": "IPY_MODEL_db07ccb2a7ca4c7ab2fd3e48f5299b18",
            "value": 115730790
          }
        },
        "8a5e0a07ec7941ebbd54bca65f5afd31": {
          "model_module": "@jupyter-widgets/controls",
          "model_module_version": "1.5.0",
          "model_name": "HTMLModel",
          "state": {
            "_dom_classes": [],
            "_model_module": "@jupyter-widgets/controls",
            "_model_module_version": "1.5.0",
            "_model_name": "HTMLModel",
            "_view_count": null,
            "_view_module": "@jupyter-widgets/controls",
            "_view_module_version": "1.5.0",
            "_view_name": "HTMLView",
            "description": "",
            "description_tooltip": null,
            "layout": "IPY_MODEL_d7ad6f47c9cd49d89747e2b4dafccb2d",
            "placeholder": "​",
            "style": "IPY_MODEL_d97212facb744fb884329d8a94cf6b4f",
            "value": "100%"
          }
        },
        "92c4d08b5635458785a4a74052970d1f": {
          "model_module": "@jupyter-widgets/base",
          "model_module_version": "1.2.0",
          "model_name": "LayoutModel",
          "state": {
            "_model_module": "@jupyter-widgets/base",
            "_model_module_version": "1.2.0",
            "_model_name": "LayoutModel",
            "_view_count": null,
            "_view_module": "@jupyter-widgets/base",
            "_view_module_version": "1.2.0",
            "_view_name": "LayoutView",
            "align_content": null,
            "align_items": null,
            "align_self": null,
            "border": null,
            "bottom": null,
            "display": null,
            "flex": null,
            "flex_flow": null,
            "grid_area": null,
            "grid_auto_columns": null,
            "grid_auto_flow": null,
            "grid_auto_rows": null,
            "grid_column": null,
            "grid_gap": null,
            "grid_row": null,
            "grid_template_areas": null,
            "grid_template_columns": null,
            "grid_template_rows": null,
            "height": null,
            "justify_content": null,
            "justify_items": null,
            "left": null,
            "margin": null,
            "max_height": null,
            "max_width": null,
            "min_height": null,
            "min_width": null,
            "object_fit": null,
            "object_position": null,
            "order": null,
            "overflow": null,
            "overflow_x": null,
            "overflow_y": null,
            "padding": null,
            "right": null,
            "top": null,
            "visibility": null,
            "width": null
          }
        },
        "95cb62569543462daca46c8db3a0fe6f": {
          "model_module": "@jupyter-widgets/controls",
          "model_module_version": "1.5.0",
          "model_name": "HTMLModel",
          "state": {
            "_dom_classes": [],
            "_model_module": "@jupyter-widgets/controls",
            "_model_module_version": "1.5.0",
            "_model_name": "HTMLModel",
            "_view_count": null,
            "_view_module": "@jupyter-widgets/controls",
            "_view_module_version": "1.5.0",
            "_view_name": "HTMLView",
            "description": "",
            "description_tooltip": null,
            "layout": "IPY_MODEL_2fab95c912bf49a7ad778378f3228787",
            "placeholder": "​",
            "style": "IPY_MODEL_31b9d1079e764e79919e9bbe51d4d0a7",
            "value": " 190M/190M [00:01&lt;00:00, 204MB/s]"
          }
        },
        "a557bcc2ac3140dfa96bb5f27dd0a4e8": {
          "model_module": "@jupyter-widgets/controls",
          "model_module_version": "1.5.0",
          "model_name": "HBoxModel",
          "state": {
            "_dom_classes": [],
            "_model_module": "@jupyter-widgets/controls",
            "_model_module_version": "1.5.0",
            "_model_name": "HBoxModel",
            "_view_count": null,
            "_view_module": "@jupyter-widgets/controls",
            "_view_module_version": "1.5.0",
            "_view_name": "HBoxView",
            "box_style": "",
            "children": [
              "IPY_MODEL_6ddbf547ae524cf4b13b8ce97a32274d",
              "IPY_MODEL_79befdf0817c447d9056b4a867d3b509",
              "IPY_MODEL_95cb62569543462daca46c8db3a0fe6f"
            ],
            "layout": "IPY_MODEL_1f53114037644a34931c07ef7a860f1e"
          }
        },
        "b932a0aed6bc4bfeb1bd60b66f27531f": {
          "model_module": "@jupyter-widgets/controls",
          "model_module_version": "1.5.0",
          "model_name": "DescriptionStyleModel",
          "state": {
            "_model_module": "@jupyter-widgets/controls",
            "_model_module_version": "1.5.0",
            "_model_name": "DescriptionStyleModel",
            "_view_count": null,
            "_view_module": "@jupyter-widgets/base",
            "_view_module_version": "1.2.0",
            "_view_name": "StyleView",
            "description_width": ""
          }
        },
        "d1bb345a51504b3ab7ea592dca247130": {
          "model_module": "@jupyter-widgets/base",
          "model_module_version": "1.2.0",
          "model_name": "LayoutModel",
          "state": {
            "_model_module": "@jupyter-widgets/base",
            "_model_module_version": "1.2.0",
            "_model_name": "LayoutModel",
            "_view_count": null,
            "_view_module": "@jupyter-widgets/base",
            "_view_module_version": "1.2.0",
            "_view_name": "LayoutView",
            "align_content": null,
            "align_items": null,
            "align_self": null,
            "border": null,
            "bottom": null,
            "display": null,
            "flex": null,
            "flex_flow": null,
            "grid_area": null,
            "grid_auto_columns": null,
            "grid_auto_flow": null,
            "grid_auto_rows": null,
            "grid_column": null,
            "grid_gap": null,
            "grid_row": null,
            "grid_template_areas": null,
            "grid_template_columns": null,
            "grid_template_rows": null,
            "height": null,
            "justify_content": null,
            "justify_items": null,
            "left": null,
            "margin": null,
            "max_height": null,
            "max_width": null,
            "min_height": null,
            "min_width": null,
            "object_fit": null,
            "object_position": null,
            "order": null,
            "overflow": null,
            "overflow_x": null,
            "overflow_y": null,
            "padding": null,
            "right": null,
            "top": null,
            "visibility": null,
            "width": null
          }
        },
        "d7ad6f47c9cd49d89747e2b4dafccb2d": {
          "model_module": "@jupyter-widgets/base",
          "model_module_version": "1.2.0",
          "model_name": "LayoutModel",
          "state": {
            "_model_module": "@jupyter-widgets/base",
            "_model_module_version": "1.2.0",
            "_model_name": "LayoutModel",
            "_view_count": null,
            "_view_module": "@jupyter-widgets/base",
            "_view_module_version": "1.2.0",
            "_view_name": "LayoutView",
            "align_content": null,
            "align_items": null,
            "align_self": null,
            "border": null,
            "bottom": null,
            "display": null,
            "flex": null,
            "flex_flow": null,
            "grid_area": null,
            "grid_auto_columns": null,
            "grid_auto_flow": null,
            "grid_auto_rows": null,
            "grid_column": null,
            "grid_gap": null,
            "grid_row": null,
            "grid_template_areas": null,
            "grid_template_columns": null,
            "grid_template_rows": null,
            "height": null,
            "justify_content": null,
            "justify_items": null,
            "left": null,
            "margin": null,
            "max_height": null,
            "max_width": null,
            "min_height": null,
            "min_width": null,
            "object_fit": null,
            "object_position": null,
            "order": null,
            "overflow": null,
            "overflow_x": null,
            "overflow_y": null,
            "padding": null,
            "right": null,
            "top": null,
            "visibility": null,
            "width": null
          }
        },
        "d8f1a0a079944de5b503d94db4e28261": {
          "model_module": "@jupyter-widgets/base",
          "model_module_version": "1.2.0",
          "model_name": "LayoutModel",
          "state": {
            "_model_module": "@jupyter-widgets/base",
            "_model_module_version": "1.2.0",
            "_model_name": "LayoutModel",
            "_view_count": null,
            "_view_module": "@jupyter-widgets/base",
            "_view_module_version": "1.2.0",
            "_view_name": "LayoutView",
            "align_content": null,
            "align_items": null,
            "align_self": null,
            "border": null,
            "bottom": null,
            "display": null,
            "flex": null,
            "flex_flow": null,
            "grid_area": null,
            "grid_auto_columns": null,
            "grid_auto_flow": null,
            "grid_auto_rows": null,
            "grid_column": null,
            "grid_gap": null,
            "grid_row": null,
            "grid_template_areas": null,
            "grid_template_columns": null,
            "grid_template_rows": null,
            "height": null,
            "justify_content": null,
            "justify_items": null,
            "left": null,
            "margin": null,
            "max_height": null,
            "max_width": null,
            "min_height": null,
            "min_width": null,
            "object_fit": null,
            "object_position": null,
            "order": null,
            "overflow": null,
            "overflow_x": null,
            "overflow_y": null,
            "padding": null,
            "right": null,
            "top": null,
            "visibility": null,
            "width": null
          }
        },
        "d97212facb744fb884329d8a94cf6b4f": {
          "model_module": "@jupyter-widgets/controls",
          "model_module_version": "1.5.0",
          "model_name": "DescriptionStyleModel",
          "state": {
            "_model_module": "@jupyter-widgets/controls",
            "_model_module_version": "1.5.0",
            "_model_name": "DescriptionStyleModel",
            "_view_count": null,
            "_view_module": "@jupyter-widgets/base",
            "_view_module_version": "1.2.0",
            "_view_name": "StyleView",
            "description_width": ""
          }
        },
        "db07ccb2a7ca4c7ab2fd3e48f5299b18": {
          "model_module": "@jupyter-widgets/controls",
          "model_module_version": "1.5.0",
          "model_name": "ProgressStyleModel",
          "state": {
            "_model_module": "@jupyter-widgets/controls",
            "_model_module_version": "1.5.0",
            "_model_name": "ProgressStyleModel",
            "_view_count": null,
            "_view_module": "@jupyter-widgets/base",
            "_view_module_version": "1.2.0",
            "_view_name": "StyleView",
            "bar_color": null,
            "description_width": ""
          }
        },
        "eafdaf4d0fb74985a17355818c02e90b": {
          "model_module": "@jupyter-widgets/base",
          "model_module_version": "1.2.0",
          "model_name": "LayoutModel",
          "state": {
            "_model_module": "@jupyter-widgets/base",
            "_model_module_version": "1.2.0",
            "_model_name": "LayoutModel",
            "_view_count": null,
            "_view_module": "@jupyter-widgets/base",
            "_view_module_version": "1.2.0",
            "_view_name": "LayoutView",
            "align_content": null,
            "align_items": null,
            "align_self": null,
            "border": null,
            "bottom": null,
            "display": null,
            "flex": null,
            "flex_flow": null,
            "grid_area": null,
            "grid_auto_columns": null,
            "grid_auto_flow": null,
            "grid_auto_rows": null,
            "grid_column": null,
            "grid_gap": null,
            "grid_row": null,
            "grid_template_areas": null,
            "grid_template_columns": null,
            "grid_template_rows": null,
            "height": null,
            "justify_content": null,
            "justify_items": null,
            "left": null,
            "margin": null,
            "max_height": null,
            "max_width": null,
            "min_height": null,
            "min_width": null,
            "object_fit": null,
            "object_position": null,
            "order": null,
            "overflow": null,
            "overflow_x": null,
            "overflow_y": null,
            "padding": null,
            "right": null,
            "top": null,
            "visibility": null,
            "width": null
          }
        }
      }
    }
  },
  "nbformat": 4,
  "nbformat_minor": 0
}
