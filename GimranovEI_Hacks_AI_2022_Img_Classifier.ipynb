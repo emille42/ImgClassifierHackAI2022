{
  "cells": [
    {
      "cell_type": "markdown",
      "metadata": {
        "id": "Bcy4H6F00Pl6"
      },
      "source": [
        "# **Imports**"
      ]
    },
    {
      "cell_type": "code",
      "execution_count": null,
      "metadata": {
        "id": "LFy8ZaJoyGui"
      },
      "outputs": [],
      "source": [
        "import torch\n",
        "import torch.nn as nn\n",
        "import torch.functional as F\n",
        "import torch.optim as optim\n",
        "import torchvision\n",
        "from torchvision import transforms, models\n",
        "from torch.utils.data import DataLoader, Dataset, RandomSampler\n",
        "import pandas as pd\n",
        "import os\n",
        "import numpy as np\n",
        "import random\n",
        "import matplotlib.pyplot as plt\n",
        "from skimage import io\n",
        "from tqdm import tqdm\n",
        "import copy\n",
        "from IPython.display import clear_output\n",
        "from sklearn.model_selection import train_test_split, KFold\n",
        "from sklearn.metrics import recall_score\n",
        "from torchvision.models import *\n",
        "import gc\n",
        "import cv2\n",
        "import albumentations as A\n",
        "from albumentations.pytorch import ToTensorV2"
      ]
    },
    {
      "cell_type": "code",
      "source": [
        "import warnings\n",
        "from sklearn.exceptions import UndefinedMetricWarning\n",
        "warnings.filterwarnings(action='ignore', category=UndefinedMetricWarning)"
      ],
      "metadata": {
        "id": "FyoJ7KcA0UFr"
      },
      "execution_count": null,
      "outputs": []
    },
    {
      "cell_type": "code",
      "execution_count": null,
      "metadata": {
        "id": "XPFT3Mgg0DI4"
      },
      "outputs": [],
      "source": [
        "SEED = 42\n",
        "random.seed(SEED)\n",
        "np.random.seed(SEED)\n",
        "torch.manual_seed(SEED)\n",
        "torch.cuda.manual_seed(SEED)\n",
        "torch.backends.cudnn.deterministic = True"
      ]
    },
    {
      "cell_type": "markdown",
      "metadata": {
        "id": "Pne-dJG-Jfnb"
      },
      "source": [
        "# **Utils**"
      ]
    },
    {
      "cell_type": "code",
      "source": [
        "def show_progress_plots(all_metrics, metric_names, val=None):\n",
        "      n_metrics = len(all_metrics)\n",
        "      fig, axes = plt.subplots(1,n_metrics, figsize=(5*n_metrics,n_metrics))\n",
        "      # Show metric plots\n",
        "      for i, metric_data, name in zip(range(n_metrics), all_metrics, metric_names):\n",
        "        axes[i].plot(metric_data[0], label=f'{name}_train')\n",
        "        if val is not None:\n",
        "          axes[i].plot(metric_data[1], label=f'{name}_val')\n",
        "        axes[i].legend()\n",
        "      plt.show()"
      ],
      "metadata": {
        "id": "epSXkt0YSxOh"
      },
      "execution_count": null,
      "outputs": []
    },
    {
      "cell_type": "code",
      "execution_count": null,
      "metadata": {
        "id": "9PPlmesWJjBz"
      },
      "outputs": [],
      "source": [
        "def train_model(model, loss_func, train_dataloader,optimizer, n_epochs, val_dataloader=None,\\\n",
        "                device='cpu', metric=None, metric_params=None, logs=True, plots=True):\n",
        "  model.to(device)\n",
        "\n",
        "  best_model, best_model_train,best_model_val = None, None, None \n",
        "  best_loss = best_loss_train = best_loss_val = 9999999\n",
        "  best_metric = best_metric_train = best_metric_val = 9999999\n",
        "\n",
        "  loss_train_history = []\n",
        "  acc_train_history = []\n",
        "  metric_train_history = []\n",
        "\n",
        "  loss_val_history = []\n",
        "  acc_val_history = []\n",
        "  metric_val_history = []\n",
        "\n",
        "  all_metrics = [[loss_train_history, loss_val_history], \n",
        "                     [acc_train_history, acc_val_history],\n",
        "                     [metric_train_history, metric_val_history]]\n",
        "  metric_names = ['loss', 'accuracy', metric.__name__]\n",
        "\n",
        "  try:\n",
        "    for epoch in range(n_epochs):\n",
        "      for phase in ['train', 'val']:\n",
        "        if logs:\n",
        "          print(f\"\\nStart {phase} phase\")\n",
        "        if phase == 'train':\n",
        "          model.train()\n",
        "          dataloader = train_dataloader\n",
        "\n",
        "        elif phase == 'val':\n",
        "          model.eval()\n",
        "          dataloader = val_dataloader\n",
        "\n",
        "          if dataloader is None:\n",
        "            continue\n",
        "\n",
        "        epoch_loss = 0.\n",
        "        epoch_acc = 0.\n",
        "        epoch_metric = 0.\n",
        "\n",
        "        for batch, labels in tqdm(dataloader, disable=not logs):\n",
        "          batch = batch.to(device)\n",
        "          labels = labels.to(device)\n",
        "          optimizer.zero_grad()\n",
        "\n",
        "          with torch.set_grad_enabled(phase == 'train'):\n",
        "            preds = model(batch)\n",
        "            loss_value = loss_func(preds, labels)\n",
        "            preds_class = preds.argmax(dim=1)\n",
        "\n",
        "            if phase == 'train':\n",
        "              loss_value.backward()\n",
        "              optimizer.step()\n",
        "\n",
        "\n",
        "        \n",
        "        # Metric values\n",
        "          epoch_loss += loss_value.item()\n",
        "          epoch_acc += (preds_class == labels.data).float().mean()\n",
        "          if metric:\n",
        "            epoch_metric += metric(labels.data.cpu(), preds_class.cpu(), average='macro')\n",
        "          \n",
        "        # Calc epoch metrics\n",
        "        epoch_loss = np.around(epoch_loss/len(dataloader), decimals=3)\n",
        "        epoch_acc = np.around(float(epoch_acc/len(dataloader)), decimals=3)\n",
        "        if metric:\n",
        "          epoch_metric = np.around(float(epoch_metric/len(dataloader)), decimals=3)\n",
        "        \n",
        "        # Show epoch metrics in console\n",
        "        if logs:\n",
        "          clear_output(True)\n",
        "          print(f\"Epoch {epoch+1} {phase} loss: {epoch_loss}\")\n",
        "          print(f\"Epoch {epoch+1} {phase} acc: {epoch_acc}\")\n",
        "        if logs and metric:\n",
        "          print(f\"Epoch {epoch+1} {phase} metric: {epoch_metric}\")\n",
        "        \n",
        "        # Save epoch metrics and choose best models\n",
        "        if phase == 'train':\n",
        "          loss_train_history.append(epoch_loss)\n",
        "          acc_train_history.append(epoch_acc)\n",
        "          if metric:\n",
        "            metric_train_history.append(epoch_metric)\n",
        "\n",
        "          if epoch_loss < best_loss_train:\n",
        "            best_model_train = copy.deepcopy(model)\n",
        "            best_loss_train = copy.deepcopy(epoch_loss)\n",
        "            if metric:\n",
        "              best_metric_train = copy.deepcopy(epoch_metric)\n",
        "            if logs:\n",
        "              print(f\"Find new best model on train with loss: {best_loss_train}! epoch: {epoch+1}\")\n",
        "        else:\n",
        "          loss_val_history.append(epoch_loss)\n",
        "          acc_val_history.append(epoch_acc)\n",
        "          if metric:\n",
        "            metric_val_history.append(epoch_metric)\n",
        "\n",
        "          if epoch_loss < best_loss_val:\n",
        "            best_model_val = copy.deepcopy(model)\n",
        "            best_loss_val = copy.deepcopy(epoch_loss)\n",
        "            if metric:\n",
        "              best_metric_val = copy.deepcopy(epoch_metric)\n",
        "            if logs:\n",
        "              print(f\"Find new best model on val with loss: {best_loss_val}, epoch: {epoch+1} !\")            \n",
        "\n",
        "      # Choose best model \n",
        "      if val_dataloader is not None:\n",
        "        best_model = best_model_val\n",
        "        best_loss = best_loss_val\n",
        "        if metric:\n",
        "          best_metric = best_metric_val\n",
        "      else:\n",
        "        best_model = best_model_train\n",
        "        best_loss = best_loss_train\n",
        "        if metric:\n",
        "          best_metric = best_metric_train\n",
        "          \n",
        "  except KeyboardInterrupt:\n",
        "    print(\"Training stopped by user!\")\n",
        "    print(f\"Best train loss: {best_loss_train}\")\n",
        "    print(f\"Best val loss: {best_loss_val}\")\n",
        "    print(f\"Best train metric: {best_metric_train}\")\n",
        "    print(f\"Best val metric: {best_metric_val}\")\n",
        "    if plots:\n",
        "      show_progress_plots(all_metrics, metric_names, val_dataloader)\n",
        "    return best_model, best_loss, best_metric\n",
        "\n",
        "  if plots:\n",
        "    show_progress_plots(all_metrics, metric_names, val_dataloader)\n",
        "  print(f\"Best train loss: {best_loss_train}\")\n",
        "  print(f\"Best val loss: {best_loss_val}\")\n",
        "  print(f\"Best train metric: {best_metric_train}\")\n",
        "  print(f\"Best val metric: {best_metric_val}\")\n",
        "  return best_model, best_loss, best_metric"
      ]
    },
    {
      "cell_type": "code",
      "execution_count": null,
      "metadata": {
        "id": "rYvq8eN0G5uc"
      },
      "outputs": [],
      "source": [
        "def predict(model, dataloader, device='cpu'):\n",
        "  model.eval()\n",
        "  model.to(device)\n",
        "  pred_labels = []\n",
        "  img_names = []\n",
        "\n",
        "  for inputs, paths in tqdm(dataloader):\n",
        "    inputs = inputs.to(device)\n",
        "    with torch.set_grad_enabled(False):\n",
        "        preds = model(inputs)\n",
        "    pred_labels.append(nn.functional.softmax(preds, dim=1).argmax(-1).data.cpu().numpy())\n",
        "    img_names.extend(paths)\n",
        "    \n",
        "  pred_labels = np.concatenate(pred_labels)\n",
        "  return pred_labels, img_names"
      ]
    },
    {
      "cell_type": "code",
      "execution_count": null,
      "metadata": {
        "id": "8ti9wzUf54NO"
      },
      "outputs": [],
      "source": [
        "def show_images(dataloader, n=10):\n",
        "  img_tensors, labels = next(iter(dataloader))\n",
        "  for idx in range(n):\n",
        "      image = img_tensors[idx].permute(1, 2, 0).numpy()\n",
        "      mean = np.array([0.485, 0.456, 0.406])\n",
        "      std = np.array([0.229, 0.224, 0.225])\n",
        "      image = std * image + mean\n",
        "      plt.imshow(image.clip(0,1))\n",
        "      plt.title(\"Класс: \" + str(int(labels[idx])))\n",
        "      plt.show()"
      ]
    },
    {
      "cell_type": "code",
      "source": [
        "def cross_validation(models_list, train_df, n_splits, batch_size, grad, \\\n",
        "                     transforms, train_path, n_epochs,metric, device='cpu'):\n",
        "  kfold = KFold(n_splits=n_splits, shuffle=True, random_state=SEED)\n",
        "  losses = []\n",
        "  metrics = []\n",
        "  for idx,get_model_f in enumerate(models_list):\n",
        "    model_losses = []\n",
        "    model_metrics = []\n",
        "\n",
        "    fold_idx = 1\n",
        "    for train_indices, test_indices in kfold.split(train_df):\n",
        "        \n",
        "      print(f\"Start train model {idx+1}, fold {fold_idx}\")\n",
        "      model = get_model_f(grad)\n",
        "      loss_f = torch.nn.CrossEntropyLoss()\n",
        "      optimizer = torch.optim.Adam(model.parameters(), lr=1.0e-3)\n",
        "\n",
        "      train = train_df.iloc[train_indices]\n",
        "      train_dataset = ImgDataset(train, train_path, transform=transforms[0], with_label=True)\n",
        "      train_dataloader = DataLoader(train_dataset, batch_size=batch_size, shuffle=True, drop_last=True)\n",
        "\n",
        "      test = train_df.iloc[test_indices]\n",
        "      test_dataset = ImgDataset(test, train_path, transform=transforms[1], with_label=True)\n",
        "      test_dataloader = DataLoader(test_dataset, batch_size=batch_size, shuffle=True, drop_last=True)\n",
        "\n",
        "      _, best_loss, best_metric = train_model(model,loss_func=loss_f,\\\n",
        "                                              train_dataloader=train_dataloader,\\\n",
        "                                              val_dataloader=test_dataloader,\\\n",
        "                                              optimizer=optimizer, n_epochs=n_epochs,\\\n",
        "                                              device=device, metric=metric, logs=False)\n",
        "      model_losses.append(best_loss)\n",
        "      model_metrics.append(best_metric)\n",
        "      print(f\"End train model {idx+1}, fold {fold_idx}\\n\")\n",
        "      fold_idx +=1\n",
        "      \n",
        "    losses.append(np.mean(model_losses))\n",
        "    metrics.append(np.mean(model_metrics))\n",
        "    print(f\"Model {idx+1} mean loss {np.mean(model_losses)}\")\n",
        "    print(f\"Model {idx+1} mean metric {np.mean(model_metrics)}\")\n",
        "\n",
        "  losses = {idx+1: val for idx, val in enumerate(losses)}\n",
        "  metrics = {idx+1: val for idx, val in enumerate(metrics)}\n",
        "  print(f\"Mean losses: {losses}\")\n",
        "  print(f\"Mean metrics: {metrics}\")\n",
        "  "
      ],
      "metadata": {
        "id": "ZMq-YnMCFTkT"
      },
      "execution_count": null,
      "outputs": []
    },
    {
      "cell_type": "code",
      "source": [
        "def augment_and_save(df,max_count, data_path,save_folder, transforms):\n",
        "  aug_df = pd.DataFrame(columns=df.columns)\n",
        "  written = 0\n",
        "\n",
        "  for idx, row in df.iterrows():\n",
        "    img_name = row.iloc[0]\n",
        "    img_class = row.iloc[1]\n",
        "    \n",
        "    class_n = df[df['class'] == img_class].shape[0]\n",
        "    if class_n > max_count:\n",
        "      continue\n",
        "    \n",
        "    img_path = os.path.join(data_path, img_name)\n",
        "    image = cv2.imread(img_path)\n",
        "    image = cv2.cvtColor(image, cv2.COLOR_BGR2RGB)\n",
        "\n",
        "    aug_img = transforms(image=image)['image']\n",
        "\n",
        "    aug_name = f\"aug_{idx}_\" + img_name\n",
        "    save_path = os.path.join(save_folder, aug_name)\n",
        "   \n",
        "    if cv2.imwrite(save_path, cv2.cvtColor(aug_img, cv2.COLOR_RGB2BGR)):\n",
        "      written +=1\n",
        "      aug_df.loc[len(aug_df)] = [aug_name, img_class]\n",
        "\n",
        "  print(f\"Written {written} augmented images total. Path: {save_folder}\")\n",
        "\n",
        "  return aug_df"
      ],
      "metadata": {
        "id": "myCVD3OgP5E0"
      },
      "execution_count": null,
      "outputs": []
    },
    {
      "cell_type": "markdown",
      "metadata": {
        "id": "ej-jiEq-0Koc"
      },
      "source": [
        "# **Dataset**"
      ]
    },
    {
      "cell_type": "code",
      "execution_count": null,
      "metadata": {
        "id": "1K3gbxiJ1N32"
      },
      "outputs": [],
      "source": [
        "class ImgDataset(Dataset):\n",
        "  def __init__(self, img_df, img_path, transform=None, with_label=True):\n",
        "    self.img_df = img_df\n",
        "    self.img_path = img_path\n",
        "    self.transform = transform\n",
        "    self.with_label = with_label\n",
        "\n",
        "  def __len__(self):\n",
        "    return len(self.img_df)\n",
        "    \n",
        "  def __getitem__(self, index):\n",
        "    path = os.path.join(self.img_path, self.img_df.iloc[index, 0])\n",
        "    if self.with_label:\n",
        "      label = int(self.img_df.iloc[index, 1])\n",
        "\n",
        "    image = cv2.imread(path, cv2.IMREAD_COLOR)\n",
        "    image = cv2.cvtColor(image, cv2.COLOR_BGR2RGB)\n",
        "\n",
        "    if self.transform:\n",
        "          image = self.transform(image=image)['image']\n",
        "\n",
        "    if self.with_label:\n",
        "      return image, label\n",
        "    else:\n",
        "      return image, self.img_df.iloc[index, 0]\n",
        "  "
      ]
    },
    {
      "cell_type": "code",
      "execution_count": null,
      "metadata": {
        "id": "QM_--Ny60Jup"
      },
      "outputs": [],
      "source": [
        "# TRAIN_PATH = \"/content/drive/MyDrive/hacksAI2022/Datasets/KarachaevoCherkessk/train\"\n",
        "TEST_PATH = \"/content/drive/MyDrive/hacksAI2022/Datasets/KarachaevoCherkessk/test\"\n",
        "# train_df = pd.read_csv(\"/content/drive/MyDrive/hacksAI2022/Datasets/KarachaevoCherkessk/train.csv\")\n",
        "test_df = pd.read_csv(\"/content/drive/MyDrive/hacksAI2022/Datasets/KarachaevoCherkessk/test.csv\")\n",
        "# print(train_df.shape)\n",
        "# train_df.head()"
      ]
    },
    {
      "cell_type": "code",
      "source": [
        "# train_df['class'].value_counts()"
      ],
      "metadata": {
        "id": "K8gPzjW4JaMC"
      },
      "execution_count": null,
      "outputs": []
    },
    {
      "cell_type": "code",
      "source": [
        "# # UPSAMPLING\n",
        "# upsampled_df = []\n",
        "# max_count = 600\n",
        "# for i in range(n_classes):\n",
        "#   class_df = train_df[train_df['class'] == i]\n",
        "#   if class_df.shape[0] < max_count:\n",
        "#     sum = class_df.shape[0]\n",
        "#     while sum < max_count:\n",
        "#       samples = train_df[train_df['class'] == i].sample(150)\n",
        "#       upsampled_df.append(samples)\n",
        "#       sum+=samples.shape[0]\n",
        "# upsampled_df.append(train_df)\n",
        "# upsampled_df = pd.concat(upsampled_df, axis=0).reset_index().drop('index', axis=1)\n",
        "# upsampled_df['class'].value_counts()"
      ],
      "metadata": {
        "id": "RupfpxoBxUOt",
        "colab": {
          "base_uri": "https://localhost:8080/"
        },
        "outputId": "742ec44b-e357-4581-b686-8a4d84f4a642"
      },
      "execution_count": null,
      "outputs": [
        {
          "output_type": "execute_result",
          "data": {
            "text/plain": [
              "1.0    1586\n",
              "3.0     969\n",
              "4.0     797\n",
              "6.0     743\n",
              "5.0     664\n",
              "7.0     644\n",
              "0.0     621\n",
              "2.0     616\n",
              "Name: class, dtype: int64"
            ]
          },
          "metadata": {},
          "execution_count": 71
        }
      ]
    },
    {
      "cell_type": "code",
      "source": [
        "# !mkdir augmented\n",
        "# transforms = A.ShiftScaleRotate(shift_limit=0.0625, scale_limit=0.20, rotate_limit=30, p=1)\n",
        "# aug_df = augment_and_save(upsampled_df,750, TRAIN_PATH, \"/content/augmented/\",transforms)\n",
        "# !cd augmented && ls | wc -l\n",
        "# !cd /content/drive/MyDrive/hacksAI2022/Datasets/KarachaevoCherkessk/ && mkdir upsampled\n",
        "# !cp /content/drive/MyDrive/hacksAI2022/Datasets/KarachaevoCherkessk/train/* /content/drive/MyDrive/hacksAI2022/Datasets/KarachaevoCherkessk/upsampled\n",
        "# !cp /content/augmented/* /content/drive/MyDrive/hacksAI2022/Datasets/KarachaevoCherkessk/upsampled\n",
        "# augmented_df = pd.concat([train_df, aug_df])\n",
        "# augmented_df.shape"
      ],
      "metadata": {
        "id": "9UYlvydl69dT",
        "colab": {
          "base_uri": "https://localhost:8080/"
        },
        "outputId": "c8393a35-d053-48f1-c998-c8a4d58c9edc"
      },
      "execution_count": null,
      "outputs": [
        {
          "output_type": "stream",
          "name": "stdout",
          "text": [
            "Written 3288 augmented images total. Path: /content/augmented/\n",
            "3288\n"
          ]
        },
        {
          "output_type": "execute_result",
          "data": {
            "text/plain": [
              "(8278, 2)"
            ]
          },
          "metadata": {},
          "execution_count": 100
        }
      ]
    },
    {
      "cell_type": "code",
      "source": [
        "# augmented_df.to_csv('/content/drive/MyDrive/hacksAI2022/Datasets/KarachaevoCherkessk/upsampled.csv', index=False)"
      ],
      "metadata": {
        "id": "qmkPT6wWjKAk"
      },
      "execution_count": null,
      "outputs": []
    },
    {
      "cell_type": "code",
      "source": [
        "TRAIN_PATH = \"/content/drive/MyDrive/hacksAI2022/Datasets/KarachaevoCherkessk/upsampled\""
      ],
      "metadata": {
        "id": "2mY6GKC2Jkf3"
      },
      "execution_count": null,
      "outputs": []
    },
    {
      "cell_type": "code",
      "source": [
        "train_df = pd.read_csv('/content/drive/MyDrive/hacksAI2022/Datasets/KarachaevoCherkessk/upsampled.csv')"
      ],
      "metadata": {
        "id": "sKF1BRJlygDm"
      },
      "execution_count": null,
      "outputs": []
    },
    {
      "cell_type": "code",
      "source": [
        "n_classes = len(train_df['class'].unique())\n",
        "n_classes"
      ],
      "metadata": {
        "colab": {
          "base_uri": "https://localhost:8080/"
        },
        "id": "mP2oKtOmU0hp",
        "outputId": "4f8d4a07-cc7d-46df-f70d-386996723e5d"
      },
      "execution_count": null,
      "outputs": [
        {
          "output_type": "execute_result",
          "data": {
            "text/plain": [
              "8"
            ]
          },
          "metadata": {},
          "execution_count": 16
        }
      ]
    },
    {
      "cell_type": "code",
      "source": [
        "train_df['class'].value_counts()"
      ],
      "metadata": {
        "colab": {
          "base_uri": "https://localhost:8080/"
        },
        "id": "FwTchHhyy3cL",
        "outputId": "80ab28cc-1a82-4d97-e0c4-3ee6c8db82d8"
      },
      "execution_count": null,
      "outputs": [
        {
          "output_type": "execute_result",
          "data": {
            "text/plain": [
              "1.0    1586\n",
              "5.0    1178\n",
              "6.0    1036\n",
              "3.0     969\n",
              "0.0     942\n",
              "2.0     932\n",
              "7.0     838\n",
              "4.0     797\n",
              "Name: class, dtype: int64"
            ]
          },
          "metadata": {},
          "execution_count": 15
        }
      ]
    },
    {
      "cell_type": "code",
      "source": [
        "# UNDERSAMPLING\n",
        "undersampled_df = []\n",
        "max_count = 1000\n",
        "for i in range(n_classes):\n",
        "  if train_df[train_df['class'] == i].shape[0] > max_count:\n",
        "    samples = train_df[train_df['class'] == i].sample(max_count)\n",
        "    train_df = train_df.drop(train_df[train_df['class'] == i].index)\n",
        "    undersampled_df.append(samples)\n",
        "undersampled_df.append(train_df)\n",
        "train_df = pd.concat(undersampled_df, axis=0)\n",
        "train_df['class'].value_counts()"
      ],
      "metadata": {
        "id": "IY9cV3wFtdTJ",
        "colab": {
          "base_uri": "https://localhost:8080/"
        },
        "outputId": "5ee112be-2860-49e8-8ce7-1edaf301cde2"
      },
      "execution_count": null,
      "outputs": [
        {
          "output_type": "execute_result",
          "data": {
            "text/plain": [
              "1.0    1000\n",
              "5.0    1000\n",
              "6.0    1000\n",
              "3.0     969\n",
              "0.0     942\n",
              "2.0     932\n",
              "7.0     838\n",
              "4.0     797\n",
              "Name: class, dtype: int64"
            ]
          },
          "metadata": {},
          "execution_count": 17
        }
      ]
    },
    {
      "cell_type": "code",
      "source": [
        "geometric_transforms = A.OneOf(\n",
        "    [A.ShiftScaleRotate(shift_limit=0.0625, scale_limit=0.30, rotate_limit=15),\n",
        "     A.GridDistortion(num_steps=5),\n",
        "     A.Perspective()                        \n",
        "                ], p=0.5)\n",
        "    \n",
        "color_transforms = A.OneOf([\n",
        "    A.RandomBrightnessContrast(),\n",
        "    A.ColorJitter(),\n",
        "    A.Equalize(),\n",
        "    A.HueSaturationValue(hue_shift_limit=7),\n",
        "], p=0.33)\n",
        "\n",
        "noise_transforms = A.OneOf([A.GaussNoise(var_limit=(10.0, 50.0)),\n",
        "                              A.GaussianBlur(blur_limit=(1,5)),\n",
        "                              A.Downscale(0.5,0.5),\n",
        "                              A.ISONoise()\n",
        "                              ], p = 0.33)\n",
        "\n",
        "before_input_transforms = A.Compose([A.Resize(128,128),\n",
        "                                      A.Normalize(), ToTensorV2()\n",
        "                                    ], p=1)\n",
        "\n",
        "train_transforms = A.Compose([A.HorizontalFlip(p=0.5),\n",
        "                          geometric_transforms,\n",
        "                          color_transforms,\n",
        "                          noise_transforms,\n",
        "                          before_input_transforms\n",
        "                            ])"
      ],
      "metadata": {
        "id": "B_VDtyXM-fYa"
      },
      "execution_count": null,
      "outputs": []
    },
    {
      "cell_type": "code",
      "source": [
        "test_transforms = A.Compose([A.Resize(128,128), A.Normalize(), ToTensorV2()])"
      ],
      "metadata": {
        "id": "T_M-AS_uCOHi"
      },
      "execution_count": null,
      "outputs": []
    },
    {
      "cell_type": "code",
      "source": [
        "train_df2, val_df2 = train_test_split(train_df,test_size=0.15, random_state=SEED)"
      ],
      "metadata": {
        "id": "f3Eavdg81D5l"
      },
      "execution_count": null,
      "outputs": []
    },
    {
      "cell_type": "code",
      "execution_count": null,
      "metadata": {
        "id": "aLUeF6nq6w95"
      },
      "outputs": [],
      "source": [
        "#TRAIN DATA\n",
        "train_dataset = ImgDataset(train_df2, TRAIN_PATH, transform=train_transforms, with_label=True)\n",
        "# sampler = RandomSampler(train_dataset)\n",
        "train_dataloader = DataLoader(train_dataset, batch_size=70, shuffle=True, drop_last=True)\n",
        "\n",
        "#VAL DATA\n",
        "val_dataset = ImgDataset(val_df2, TRAIN_PATH, transform=test_transforms, with_label=True)\n",
        "# sampler = RandomSampler(train_dataset)\n",
        "val_dataloader = DataLoader(val_dataset, batch_size=70, shuffle=True, drop_last=True)"
      ]
    },
    {
      "cell_type": "markdown",
      "metadata": {
        "id": "yptnGJ5rJJnC"
      },
      "source": [
        "# **Models**"
      ]
    },
    {
      "cell_type": "code",
      "source": [
        "def get_resnet18(grad=False):\n",
        "  model = models.resnet18(weights=ResNet18_Weights.DEFAULT)\n",
        "  for param in model.parameters():\n",
        "      param.requires_grad = grad\n",
        "      \n",
        "  model.fc = nn.Linear(model.fc.in_features, n_classes)\n",
        "\n",
        "  return model"
      ],
      "metadata": {
        "id": "G9wuyRyfBfV9"
      },
      "execution_count": null,
      "outputs": []
    },
    {
      "cell_type": "code",
      "source": [
        "# def get_resnet50(grad=False):\n",
        "#   model = models.resnet50(weights=ResNet50_Weights.DEFAULT)\n",
        "#   for param in model.parameters():\n",
        "#       param.requires_grad = grad\n",
        "\n",
        "#   model.fc = nn.Linear(model.fc.in_features, n_classes)\n",
        "\n",
        "#   return model"
      ],
      "metadata": {
        "id": "Ims7IOTAAD4c"
      },
      "execution_count": null,
      "outputs": []
    },
    {
      "cell_type": "code",
      "source": [
        "def get_resnet152(grad=False):\n",
        "  model = models.resnet152(weights=ResNet152_Weights.DEFAULT)\n",
        "  for param in model.parameters():\n",
        "      param.requires_grad = grad\n",
        "\n",
        "  model.fc = nn.Linear(model.fc.in_features, n_classes)\n",
        "\n",
        "  return model"
      ],
      "metadata": {
        "id": "cP5mEgntQ9hA"
      },
      "execution_count": null,
      "outputs": []
    },
    {
      "cell_type": "code",
      "source": [
        "def get_wide_resnet101(grad=False):\n",
        "  model = models.wide_resnet101_2(weights=Wide_ResNet101_2_Weights.DEFAULT)\n",
        "  for param in model.parameters():\n",
        "      param.requires_grad = grad\n",
        "  model.fc = nn.Linear(model.fc.in_features, n_classes)\n",
        "\n",
        "  return model"
      ],
      "metadata": {
        "id": "npIxef5pWOkx"
      },
      "execution_count": null,
      "outputs": []
    },
    {
      "cell_type": "code",
      "source": [
        "def get_efficientnet_b7(grad=False):\n",
        "  model = models.efficientnet_b7(weights=EfficientNet_B7_Weights.DEFAULT)\n",
        "  for param in model.parameters():\n",
        "      param.requires_grad = grad\n",
        "  model.classifier[1] = nn.Linear(model.classifier[1].in_features, n_classes)\n",
        "\n",
        "  return model"
      ],
      "metadata": {
        "id": "lnJM68ztNvpg"
      },
      "execution_count": null,
      "outputs": []
    },
    {
      "cell_type": "code",
      "source": [
        "def get_efficientnet_b7_mod(grad=False):\n",
        "  model = models.efficientnet_b7(weights=EfficientNet_B7_Weights.DEFAULT)\n",
        "  for param in model.parameters():\n",
        "      param.requires_grad = grad\n",
        "  model.classifier[1] = nn.Sequential(nn.Dropout(0.4),nn.Linear(model.classifier[1].in_features, 64),nn.ReLU(),\n",
        "                         nn.BatchNorm1d(num_features=64),nn.Dropout(0.3), nn.Linear(64,n_classes))\n",
        "  return model"
      ],
      "metadata": {
        "id": "u7SmOaj8D2xt"
      },
      "execution_count": null,
      "outputs": []
    },
    {
      "cell_type": "code",
      "source": [
        "# def get_densenet_201(grad=False):\n",
        "#   model = models.densenet201(weights=DenseNet201_Weights.DEFAULT)\n",
        "#   for param in model.parameters():\n",
        "#       param.requires_grad = grad\n",
        "#   model.classifier = nn.Linear(model.classifier.in_features, n_classes)\n",
        "\n",
        "#   return model"
      ],
      "metadata": {
        "id": "BXXwlviPPVUY"
      },
      "execution_count": null,
      "outputs": []
    },
    {
      "cell_type": "code",
      "source": [
        "def get_densenet161(grad=False):\n",
        "  model = models.densenet161(weights=DenseNet161_Weights.DEFAULT)\n",
        "  for param in model.parameters():\n",
        "      param.requires_grad = grad\n",
        "  model.classifier = nn.Linear(model.classifier.in_features, n_classes)\n",
        "\n",
        "  return model"
      ],
      "metadata": {
        "id": "LBfjKvPSQPie"
      },
      "execution_count": null,
      "outputs": []
    },
    {
      "cell_type": "code",
      "source": [
        "# IMG SIZE!!!\n",
        "def get_vit_b16(grad=False):\n",
        "  model = models.vit_b_16(weights=ViT_B_16_Weights.DEFAULT)\n",
        "  for param in model.parameters():\n",
        "      param.requires_grad = grad\n",
        "  model.heads[0] = nn.Linear(model.heads[0].in_features, n_classes)\n",
        "\n",
        "  return model"
      ],
      "metadata": {
        "id": "AeN0fRlFRqAV"
      },
      "execution_count": null,
      "outputs": []
    },
    {
      "cell_type": "code",
      "source": [
        "# def get_efficientnet_v2_s(grad=False):\n",
        "#   model = models.efficientnet_v2_s(weights=EfficientNet_V2_S_Weights.DEFAULT)\n",
        "#   for param in model.parameters():\n",
        "#       param.requires_grad = grad\n",
        "#   model.classifier[1] = nn.Linear(model.classifier[1].in_features, n_classes)\n",
        "\n",
        "#   return model"
      ],
      "metadata": {
        "id": "4LotBRuyLooT"
      },
      "execution_count": null,
      "outputs": []
    },
    {
      "cell_type": "code",
      "source": [
        "def get_efficientnet_v2_m(grad=False):\n",
        "  model = models.efficientnet_v2_m(weights=EfficientNet_V2_M_Weights.DEFAULT)\n",
        "  for param in model.parameters():\n",
        "    param.requires_grad = grad\n",
        "  model.classifier[1] = nn.Linear(model.classifier[1].in_features, n_classes)\n",
        "\n",
        "  return model"
      ],
      "metadata": {
        "id": "Qg7xc3bYLwRZ"
      },
      "execution_count": null,
      "outputs": []
    },
    {
      "cell_type": "code",
      "source": [
        "def get_efficientnet_v2_m_mod(grad=False):\n",
        "  model = models.efficientnet_v2_m(weights=EfficientNet_V2_M_Weights.DEFAULT)\n",
        "  for param in model.parameters():\n",
        "    param.requires_grad = grad\n",
        "  model.classifier[1] = nn.Sequential(nn.Dropout(0.4),nn.Linear(model.classifier[1].in_features, 64),nn.ReLU(),\n",
        "                         nn.BatchNorm1d(num_features=64),nn.Dropout(0.3), nn.Linear(64,n_classes))\n",
        "\n",
        "  return model"
      ],
      "metadata": {
        "id": "Bcr7NxBQRnMG"
      },
      "execution_count": null,
      "outputs": []
    },
    {
      "cell_type": "code",
      "source": [
        "def get_efficientnet_v2_s_mod(grad=False):\n",
        "  model = models.efficientnet_v2_s(weights=EfficientNet_V2_S_Weights.DEFAULT)\n",
        "  for param in model.parameters():\n",
        "    param.requires_grad = grad\n",
        "  model.classifier[1] = nn.Sequential(nn.Dropout(0.4),nn.Linear(model.classifier[1].in_features, 64),nn.ReLU(),\n",
        "                         nn.BatchNorm1d(num_features=64),nn.Dropout(0.3), nn.Linear(64,n_classes))\n",
        "\n",
        "  return model"
      ],
      "metadata": {
        "id": "QUcqPOnGR55P"
      },
      "execution_count": null,
      "outputs": []
    },
    {
      "cell_type": "code",
      "source": [
        "def get_swin_s(grad=False):\n",
        "  model = models.swin_s(weights=models.Swin_S_Weights.DEFAULT)\n",
        "  for param in model.parameters():\n",
        "    param.requires_grad = False\n",
        "  model.head = nn.Linear(model.head.in_features, n_classes)\n",
        "  return model"
      ],
      "metadata": {
        "id": "fUeLzitrL9HJ"
      },
      "execution_count": null,
      "outputs": []
    },
    {
      "cell_type": "code",
      "source": [
        "# def get_swin_s_mod():\n",
        "#   model = models.swin_s(weights=models.Swin_S_Weights.DEFAULT)\n",
        "#   for param in model.parameters():\n",
        "#     param.requires_grad = True\n",
        "#   model.head = nn.Sequential(nn.Dropout(0.4),nn.Linear(model.head.in_features, 64),nn.ReLU(),\n",
        "#                          nn.BatchNorm1d(num_features=64),nn.Dropout(0.3), nn.Linear(64,n_classes))\n",
        "#   return model"
      ],
      "metadata": {
        "id": "4fqtG5u5O8BH"
      },
      "execution_count": null,
      "outputs": []
    },
    {
      "cell_type": "code",
      "source": [
        "# def get_efficientnet_v2_m_mod(freeze_param_n=0):\n",
        "#   model = models.efficientnet_v2_m(weights=EfficientNet_V2_M_Weights.DEFAULT)\n",
        "#   if freeze_param_n > 0:\n",
        "#     ct = 0\n",
        "#     for param in model.parameters():\n",
        "#       ct += 1\n",
        "#       if ct < freeze_param_n:\n",
        "#         param.requires_grad = False\n",
        "\n",
        "#   model.classifier[1] = nn.Sequential(nn.Dropout(0.4),nn.Linear(model.classifier[1].in_features, 64),nn.ReLU(),\n",
        "#                          nn.BatchNorm1d(num_features=64),nn.Dropout(0.3), nn.Linear(64,n_classes))\n",
        "\n",
        "#   return model"
      ],
      "metadata": {
        "id": "KrC0Cii0-qed"
      },
      "execution_count": null,
      "outputs": []
    },
    {
      "cell_type": "code",
      "source": [
        "# def get_efficientnet_v2_s_mod(freeze_param_n=0):\n",
        "#   model = models.efficientnet_v2_s(weights=EfficientNet_V2_S_Weights.DEFAULT)\n",
        "\n",
        "  \n",
        "#   if freeze_param_n > 0:\n",
        "#     ct = 0\n",
        "#     for param in model.parameters():\n",
        "#       ct += 1\n",
        "#       if ct < freeze_param_n:\n",
        "#         param.requires_grad = False\n",
        "\n",
        "\n",
        "#   model.classifier[1] = nn.Sequential(nn.Dropout(0.4),nn.Linear(model.classifier[1].in_features, 64),nn.ReLU(),\n",
        "#                          nn.BatchNorm1d(num_features=64),nn.Dropout(0.3), nn.Linear(64,n_classes))\n",
        "\n",
        "#   return model"
      ],
      "metadata": {
        "id": "87xwNxoht-fe"
      },
      "execution_count": null,
      "outputs": []
    },
    {
      "cell_type": "code",
      "source": [
        "def get_resnet18_mod( ):\n",
        "  model = models.resnet18(weights=ResNet18_Weights.DEFAULT)\n",
        "  \n",
        "  for param in model.parameters():\n",
        "      param.requires_grad = True\n",
        "\n",
        "\n",
        "  model.fc = nn.Sequential(nn.Dropout(0.4),nn.Linear(model.fc.in_features, 64),nn.ReLU(),\n",
        "                         nn.BatchNorm1d(num_features=64),nn.Dropout(0.3), nn.Linear(64,n_classes))\n",
        "  # unfreeze last layers\n",
        "  # for param in model.layer4.parameters():\n",
        "  #     param.requires_grad = True\n",
        "\n",
        "  return model"
      ],
      "metadata": {
        "id": "cRMcCpMD8Ghn"
      },
      "execution_count": null,
      "outputs": []
    },
    {
      "cell_type": "code",
      "source": [
        "# def get_resnet50_mod():\n",
        "#   model = models.resnet50(weights=ResNet50_Weights.DEFAULT)\n",
        "#   for param in model.parameters():\n",
        "#       param.requires_grad = True\n",
        "\n",
        "#   model.fc = nn.Sequential(nn.Dropout(0.4),nn.Linear(model.fc.in_features, 64),nn.ReLU(),\n",
        "#                          nn.BatchNorm1d(num_features=64),nn.Dropout(0.3), nn.Linear(64,n_classes))\n",
        "#   return model"
      ],
      "metadata": {
        "id": "AqVv4coR_yOt"
      },
      "execution_count": null,
      "outputs": []
    },
    {
      "cell_type": "markdown",
      "source": [
        "# **CROSS-VALIDATION**"
      ],
      "metadata": {
        "id": "4J-9uzXpRlht"
      }
    },
    {
      "cell_type": "code",
      "source": [
        "device = torch.device(\"cuda:0\" if torch.cuda.is_available() else \"cpu\")\n",
        "device"
      ],
      "metadata": {
        "id": "A_eM0ICYAWoM",
        "colab": {
          "base_uri": "https://localhost:8080/"
        },
        "outputId": "cee13b0a-7c24-44c6-e0cf-91ed17f63771"
      },
      "execution_count": null,
      "outputs": [
        {
          "output_type": "execute_result",
          "data": {
            "text/plain": [
              "device(type='cuda', index=0)"
            ]
          },
          "metadata": {},
          "execution_count": 175
        }
      ]
    },
    {
      "cell_type": "code",
      "source": [
        "cross_validation([get_efficientnet_v2_s_mod,  get_efficientnet_v2_m,\\\n",
        "                  get_efficientnet_v2_m_mod],\\\n",
        "                 train_df, n_splits=5, \\\n",
        "                 batch_size=50,grad=True, transforms=[train_transforms, test_transforms],\\\n",
        "                 train_path=TRAIN_PATH, \\\n",
        "                 n_epochs=10,metric=recall_score, device=device)"
      ],
      "metadata": {
        "id": "dvEzrRrmo_kt"
      },
      "execution_count": null,
      "outputs": []
    },
    {
      "cell_type": "code",
      "execution_count": null,
      "metadata": {
        "id": "QmZlvp_AKMsT"
      },
      "outputs": [],
      "source": [
        "model = get_efficientnet_b7_mod(True)\n",
        "loss = torch.nn.CrossEntropyLoss()\n",
        "optimizer = torch.optim.Adam(model.parameters(), lr=1.0e-3)\n",
        "\n",
        "best_model, best_loss, best_metric = train_model(model,loss_func=loss,\\\n",
        "                                            train_dataloader=train_dataloader, \\\n",
        "                                            val_dataloader=val_dataloader,\\\n",
        "                                            optimizer=optimizer, n_epochs=10,\\\n",
        "                                            device=device,metric=recall_score,\\\n",
        "                                            )"
      ]
    },
    {
      "cell_type": "markdown",
      "metadata": {
        "id": "eF2IB_ka_cJE"
      },
      "source": [
        "# **Predict and Submission** "
      ]
    },
    {
      "cell_type": "code",
      "execution_count": null,
      "metadata": {
        "id": "4kPt0ydInHVD",
        "colab": {
          "base_uri": "https://localhost:8080/",
          "height": 206
        },
        "outputId": "e32236c1-73fe-4967-e004-f07c5bafdbcc"
      },
      "outputs": [
        {
          "output_type": "execute_result",
          "data": {
            "text/plain": [
              "  ID_img  class\n",
              "0  0.jpg      0\n",
              "1  1.jpg      0\n",
              "2  2.jpg      0\n",
              "3  3.jpg      0\n",
              "4  4.jpg      0"
            ],
            "text/html": [
              "\n",
              "  <div id=\"df-35edf761-7ff6-4c65-b1a5-fa5b24a8f90f\">\n",
              "    <div class=\"colab-df-container\">\n",
              "      <div>\n",
              "<style scoped>\n",
              "    .dataframe tbody tr th:only-of-type {\n",
              "        vertical-align: middle;\n",
              "    }\n",
              "\n",
              "    .dataframe tbody tr th {\n",
              "        vertical-align: top;\n",
              "    }\n",
              "\n",
              "    .dataframe thead th {\n",
              "        text-align: right;\n",
              "    }\n",
              "</style>\n",
              "<table border=\"1\" class=\"dataframe\">\n",
              "  <thead>\n",
              "    <tr style=\"text-align: right;\">\n",
              "      <th></th>\n",
              "      <th>ID_img</th>\n",
              "      <th>class</th>\n",
              "    </tr>\n",
              "  </thead>\n",
              "  <tbody>\n",
              "    <tr>\n",
              "      <th>0</th>\n",
              "      <td>0.jpg</td>\n",
              "      <td>0</td>\n",
              "    </tr>\n",
              "    <tr>\n",
              "      <th>1</th>\n",
              "      <td>1.jpg</td>\n",
              "      <td>0</td>\n",
              "    </tr>\n",
              "    <tr>\n",
              "      <th>2</th>\n",
              "      <td>2.jpg</td>\n",
              "      <td>0</td>\n",
              "    </tr>\n",
              "    <tr>\n",
              "      <th>3</th>\n",
              "      <td>3.jpg</td>\n",
              "      <td>0</td>\n",
              "    </tr>\n",
              "    <tr>\n",
              "      <th>4</th>\n",
              "      <td>4.jpg</td>\n",
              "      <td>0</td>\n",
              "    </tr>\n",
              "  </tbody>\n",
              "</table>\n",
              "</div>\n",
              "      <button class=\"colab-df-convert\" onclick=\"convertToInteractive('df-35edf761-7ff6-4c65-b1a5-fa5b24a8f90f')\"\n",
              "              title=\"Convert this dataframe to an interactive table.\"\n",
              "              style=\"display:none;\">\n",
              "        \n",
              "  <svg xmlns=\"http://www.w3.org/2000/svg\" height=\"24px\"viewBox=\"0 0 24 24\"\n",
              "       width=\"24px\">\n",
              "    <path d=\"M0 0h24v24H0V0z\" fill=\"none\"/>\n",
              "    <path d=\"M18.56 5.44l.94 2.06.94-2.06 2.06-.94-2.06-.94-.94-2.06-.94 2.06-2.06.94zm-11 1L8.5 8.5l.94-2.06 2.06-.94-2.06-.94L8.5 2.5l-.94 2.06-2.06.94zm10 10l.94 2.06.94-2.06 2.06-.94-2.06-.94-.94-2.06-.94 2.06-2.06.94z\"/><path d=\"M17.41 7.96l-1.37-1.37c-.4-.4-.92-.59-1.43-.59-.52 0-1.04.2-1.43.59L10.3 9.45l-7.72 7.72c-.78.78-.78 2.05 0 2.83L4 21.41c.39.39.9.59 1.41.59.51 0 1.02-.2 1.41-.59l7.78-7.78 2.81-2.81c.8-.78.8-2.07 0-2.86zM5.41 20L4 18.59l7.72-7.72 1.47 1.35L5.41 20z\"/>\n",
              "  </svg>\n",
              "      </button>\n",
              "      \n",
              "  <style>\n",
              "    .colab-df-container {\n",
              "      display:flex;\n",
              "      flex-wrap:wrap;\n",
              "      gap: 12px;\n",
              "    }\n",
              "\n",
              "    .colab-df-convert {\n",
              "      background-color: #E8F0FE;\n",
              "      border: none;\n",
              "      border-radius: 50%;\n",
              "      cursor: pointer;\n",
              "      display: none;\n",
              "      fill: #1967D2;\n",
              "      height: 32px;\n",
              "      padding: 0 0 0 0;\n",
              "      width: 32px;\n",
              "    }\n",
              "\n",
              "    .colab-df-convert:hover {\n",
              "      background-color: #E2EBFA;\n",
              "      box-shadow: 0px 1px 2px rgba(60, 64, 67, 0.3), 0px 1px 3px 1px rgba(60, 64, 67, 0.15);\n",
              "      fill: #174EA6;\n",
              "    }\n",
              "\n",
              "    [theme=dark] .colab-df-convert {\n",
              "      background-color: #3B4455;\n",
              "      fill: #D2E3FC;\n",
              "    }\n",
              "\n",
              "    [theme=dark] .colab-df-convert:hover {\n",
              "      background-color: #434B5C;\n",
              "      box-shadow: 0px 1px 3px 1px rgba(0, 0, 0, 0.15);\n",
              "      filter: drop-shadow(0px 1px 2px rgba(0, 0, 0, 0.3));\n",
              "      fill: #FFFFFF;\n",
              "    }\n",
              "  </style>\n",
              "\n",
              "      <script>\n",
              "        const buttonEl =\n",
              "          document.querySelector('#df-35edf761-7ff6-4c65-b1a5-fa5b24a8f90f button.colab-df-convert');\n",
              "        buttonEl.style.display =\n",
              "          google.colab.kernel.accessAllowed ? 'block' : 'none';\n",
              "\n",
              "        async function convertToInteractive(key) {\n",
              "          const element = document.querySelector('#df-35edf761-7ff6-4c65-b1a5-fa5b24a8f90f');\n",
              "          const dataTable =\n",
              "            await google.colab.kernel.invokeFunction('convertToInteractive',\n",
              "                                                     [key], {});\n",
              "          if (!dataTable) return;\n",
              "\n",
              "          const docLinkHtml = 'Like what you see? Visit the ' +\n",
              "            '<a target=\"_blank\" href=https://colab.research.google.com/notebooks/data_table.ipynb>data table notebook</a>'\n",
              "            + ' to learn more about interactive tables.';\n",
              "          element.innerHTML = '';\n",
              "          dataTable['output_type'] = 'display_data';\n",
              "          await google.colab.output.renderOutput(dataTable, element);\n",
              "          const docLink = document.createElement('div');\n",
              "          docLink.innerHTML = docLinkHtml;\n",
              "          element.appendChild(docLink);\n",
              "        }\n",
              "      </script>\n",
              "    </div>\n",
              "  </div>\n",
              "  "
            ]
          },
          "metadata": {},
          "execution_count": 148
        }
      ],
      "source": [
        "submission_df = pd.read_csv(\"/content/drive/MyDrive/hacksAI2022/Datasets/KarachaevoCherkessk/test.csv\")\n",
        "submission_df.head()"
      ]
    },
    {
      "cell_type": "code",
      "execution_count": null,
      "metadata": {
        "id": "Gd_L0WU6kSPb"
      },
      "outputs": [],
      "source": [
        "test_dataset = ImgDataset(submission_df, TEST_PATH, transform=test_transforms, with_label=False)\n",
        "test_dataloader = DataLoader(test_dataset, batch_size=20)"
      ]
    },
    {
      "cell_type": "code",
      "execution_count": null,
      "metadata": {
        "colab": {
          "base_uri": "https://localhost:8080/"
        },
        "id": "8vhHL1Y8G9ur",
        "outputId": "7c8e0aea-dfd3-46e3-f935-ef9bf7464c45"
      },
      "outputs": [
        {
          "output_type": "stream",
          "name": "stderr",
          "text": [
            "100%|██████████| 107/107 [00:10<00:00, 10.05it/s]\n"
          ]
        }
      ],
      "source": [
        "pred_labels, test_img_names = predict(best_model, test_dataloader, device)"
      ]
    },
    {
      "cell_type": "code",
      "execution_count": null,
      "metadata": {
        "id": "TurzC-0yvvDI"
      },
      "outputs": [],
      "source": [
        "for name, label in zip(test_img_names, pred_labels):\n",
        "  submission_df.loc[submission_df['ID_img'] == name , 'class'] = label"
      ]
    },
    {
      "cell_type": "code",
      "execution_count": null,
      "metadata": {
        "id": "3RBtppey1w1v",
        "colab": {
          "base_uri": "https://localhost:8080/",
          "height": 206
        },
        "outputId": "7dec83cf-7d43-4c76-f3f4-94f2c631a9d0"
      },
      "outputs": [
        {
          "output_type": "execute_result",
          "data": {
            "text/plain": [
              "  ID_img  class\n",
              "0  0.jpg      5\n",
              "1  1.jpg      5\n",
              "2  2.jpg      1\n",
              "3  3.jpg      1\n",
              "4  4.jpg      6"
            ],
            "text/html": [
              "\n",
              "  <div id=\"df-30f769a6-aa83-484e-9587-e31d02e98af8\">\n",
              "    <div class=\"colab-df-container\">\n",
              "      <div>\n",
              "<style scoped>\n",
              "    .dataframe tbody tr th:only-of-type {\n",
              "        vertical-align: middle;\n",
              "    }\n",
              "\n",
              "    .dataframe tbody tr th {\n",
              "        vertical-align: top;\n",
              "    }\n",
              "\n",
              "    .dataframe thead th {\n",
              "        text-align: right;\n",
              "    }\n",
              "</style>\n",
              "<table border=\"1\" class=\"dataframe\">\n",
              "  <thead>\n",
              "    <tr style=\"text-align: right;\">\n",
              "      <th></th>\n",
              "      <th>ID_img</th>\n",
              "      <th>class</th>\n",
              "    </tr>\n",
              "  </thead>\n",
              "  <tbody>\n",
              "    <tr>\n",
              "      <th>0</th>\n",
              "      <td>0.jpg</td>\n",
              "      <td>5</td>\n",
              "    </tr>\n",
              "    <tr>\n",
              "      <th>1</th>\n",
              "      <td>1.jpg</td>\n",
              "      <td>5</td>\n",
              "    </tr>\n",
              "    <tr>\n",
              "      <th>2</th>\n",
              "      <td>2.jpg</td>\n",
              "      <td>1</td>\n",
              "    </tr>\n",
              "    <tr>\n",
              "      <th>3</th>\n",
              "      <td>3.jpg</td>\n",
              "      <td>1</td>\n",
              "    </tr>\n",
              "    <tr>\n",
              "      <th>4</th>\n",
              "      <td>4.jpg</td>\n",
              "      <td>6</td>\n",
              "    </tr>\n",
              "  </tbody>\n",
              "</table>\n",
              "</div>\n",
              "      <button class=\"colab-df-convert\" onclick=\"convertToInteractive('df-30f769a6-aa83-484e-9587-e31d02e98af8')\"\n",
              "              title=\"Convert this dataframe to an interactive table.\"\n",
              "              style=\"display:none;\">\n",
              "        \n",
              "  <svg xmlns=\"http://www.w3.org/2000/svg\" height=\"24px\"viewBox=\"0 0 24 24\"\n",
              "       width=\"24px\">\n",
              "    <path d=\"M0 0h24v24H0V0z\" fill=\"none\"/>\n",
              "    <path d=\"M18.56 5.44l.94 2.06.94-2.06 2.06-.94-2.06-.94-.94-2.06-.94 2.06-2.06.94zm-11 1L8.5 8.5l.94-2.06 2.06-.94-2.06-.94L8.5 2.5l-.94 2.06-2.06.94zm10 10l.94 2.06.94-2.06 2.06-.94-2.06-.94-.94-2.06-.94 2.06-2.06.94z\"/><path d=\"M17.41 7.96l-1.37-1.37c-.4-.4-.92-.59-1.43-.59-.52 0-1.04.2-1.43.59L10.3 9.45l-7.72 7.72c-.78.78-.78 2.05 0 2.83L4 21.41c.39.39.9.59 1.41.59.51 0 1.02-.2 1.41-.59l7.78-7.78 2.81-2.81c.8-.78.8-2.07 0-2.86zM5.41 20L4 18.59l7.72-7.72 1.47 1.35L5.41 20z\"/>\n",
              "  </svg>\n",
              "      </button>\n",
              "      \n",
              "  <style>\n",
              "    .colab-df-container {\n",
              "      display:flex;\n",
              "      flex-wrap:wrap;\n",
              "      gap: 12px;\n",
              "    }\n",
              "\n",
              "    .colab-df-convert {\n",
              "      background-color: #E8F0FE;\n",
              "      border: none;\n",
              "      border-radius: 50%;\n",
              "      cursor: pointer;\n",
              "      display: none;\n",
              "      fill: #1967D2;\n",
              "      height: 32px;\n",
              "      padding: 0 0 0 0;\n",
              "      width: 32px;\n",
              "    }\n",
              "\n",
              "    .colab-df-convert:hover {\n",
              "      background-color: #E2EBFA;\n",
              "      box-shadow: 0px 1px 2px rgba(60, 64, 67, 0.3), 0px 1px 3px 1px rgba(60, 64, 67, 0.15);\n",
              "      fill: #174EA6;\n",
              "    }\n",
              "\n",
              "    [theme=dark] .colab-df-convert {\n",
              "      background-color: #3B4455;\n",
              "      fill: #D2E3FC;\n",
              "    }\n",
              "\n",
              "    [theme=dark] .colab-df-convert:hover {\n",
              "      background-color: #434B5C;\n",
              "      box-shadow: 0px 1px 3px 1px rgba(0, 0, 0, 0.15);\n",
              "      filter: drop-shadow(0px 1px 2px rgba(0, 0, 0, 0.3));\n",
              "      fill: #FFFFFF;\n",
              "    }\n",
              "  </style>\n",
              "\n",
              "      <script>\n",
              "        const buttonEl =\n",
              "          document.querySelector('#df-30f769a6-aa83-484e-9587-e31d02e98af8 button.colab-df-convert');\n",
              "        buttonEl.style.display =\n",
              "          google.colab.kernel.accessAllowed ? 'block' : 'none';\n",
              "\n",
              "        async function convertToInteractive(key) {\n",
              "          const element = document.querySelector('#df-30f769a6-aa83-484e-9587-e31d02e98af8');\n",
              "          const dataTable =\n",
              "            await google.colab.kernel.invokeFunction('convertToInteractive',\n",
              "                                                     [key], {});\n",
              "          if (!dataTable) return;\n",
              "\n",
              "          const docLinkHtml = 'Like what you see? Visit the ' +\n",
              "            '<a target=\"_blank\" href=https://colab.research.google.com/notebooks/data_table.ipynb>data table notebook</a>'\n",
              "            + ' to learn more about interactive tables.';\n",
              "          element.innerHTML = '';\n",
              "          dataTable['output_type'] = 'display_data';\n",
              "          await google.colab.output.renderOutput(dataTable, element);\n",
              "          const docLink = document.createElement('div');\n",
              "          docLink.innerHTML = docLinkHtml;\n",
              "          element.appendChild(docLink);\n",
              "        }\n",
              "      </script>\n",
              "    </div>\n",
              "  </div>\n",
              "  "
            ]
          },
          "metadata": {},
          "execution_count": 152
        }
      ],
      "source": [
        "submission_df.head()"
      ]
    },
    {
      "cell_type": "code",
      "execution_count": null,
      "metadata": {
        "id": "89v01OWQ1Ijm",
        "colab": {
          "base_uri": "https://localhost:8080/"
        },
        "outputId": "01d95ed4-7f98-49df-ee8a-b8f008ed49dd"
      },
      "outputs": [
        {
          "output_type": "execute_result",
          "data": {
            "text/plain": [
              "1    665\n",
              "3    416\n",
              "4    351\n",
              "5    229\n",
              "0    138\n",
              "2    136\n",
              "6    133\n",
              "7     70\n",
              "Name: class, dtype: int64"
            ]
          },
          "metadata": {},
          "execution_count": 153
        }
      ],
      "source": [
        "submission_df['class'].value_counts()"
      ]
    },
    {
      "cell_type": "code",
      "source": [
        "submission_df.to_csv('submit.csv', index=False)"
      ],
      "metadata": {
        "id": "U5B3qcumjeT1"
      },
      "execution_count": null,
      "outputs": []
    }
  ],
  "metadata": {
    "colab": {
      "collapsed_sections": [
        "Bcy4H6F00Pl6",
        "yptnGJ5rJJnC"
      ],
      "provenance": []
    },
    "gpuClass": "standard",
    "kernelspec": {
      "display_name": "Python 3",
      "name": "python3"
    },
    "language_info": {
      "name": "python"
    },
    "accelerator": "GPU"
  },
  "nbformat": 4,
  "nbformat_minor": 0
}